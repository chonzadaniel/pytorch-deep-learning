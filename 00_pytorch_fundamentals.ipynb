{
  "nbformat": 4,
  "nbformat_minor": 0,
  "metadata": {
    "colab": {
      "provenance": [],
      "authorship_tag": "ABX9TyOEoCVPaZZLRhdgoM+MUPyZ",
      "include_colab_link": true
    },
    "kernelspec": {
      "name": "python3",
      "display_name": "Python 3"
    },
    "language_info": {
      "name": "python"
    }
  },
  "cells": [
    {
      "cell_type": "markdown",
      "metadata": {
        "id": "view-in-github",
        "colab_type": "text"
      },
      "source": [
        "<a href=\"https://colab.research.google.com/github/chonzadaniel/pytorch-deep-learning/blob/main/00_pytorch_fundamentals.ipynb\" target=\"_parent\"><img src=\"https://colab.research.google.com/assets/colab-badge.svg\" alt=\"Open In Colab\"/></a>"
      ]
    },
    {
      "cell_type": "markdown",
      "source": [
        "00_PyTorch Fundamentals\n",
        "\n"
      ],
      "metadata": {
        "id": "j5pwTYSminLV"
      }
    },
    {
      "cell_type": "code",
      "execution_count": null,
      "metadata": {
        "colab": {
          "base_uri": "https://localhost:8080/"
        },
        "id": "JjaP_z0Oguep",
        "outputId": "6e86797a-2e72-465e-e997-06be7d2c6cf4"
      },
      "outputs": [
        {
          "output_type": "stream",
          "name": "stdout",
          "text": [
            "Hello, I'm excited to learn PyTorch\n"
          ]
        }
      ],
      "source": [
        "print(\"Hello, I'm excited to learn PyTorch\")"
      ]
    },
    {
      "cell_type": "code",
      "source": [],
      "metadata": {
        "id": "rX-Uz62pkfvY"
      },
      "execution_count": null,
      "outputs": []
    },
    {
      "cell_type": "code",
      "source": [
        "!nvidia-smi"
      ],
      "metadata": {
        "colab": {
          "base_uri": "https://localhost:8080/"
        },
        "id": "VVMQmIWuhnti",
        "outputId": "5b5e2be6-8a53-4d59-f121-2e37bef9222d"
      },
      "execution_count": null,
      "outputs": [
        {
          "output_type": "stream",
          "name": "stdout",
          "text": [
            "/bin/bash: line 1: nvidia-smi: command not found\n"
          ]
        }
      ]
    },
    {
      "cell_type": "code",
      "source": [
        "import torch\n",
        "import pandas as pd\n",
        "import numpy as np\n",
        "import matplotlib.pyplot as plt\n",
        "print(torch.__version__)"
      ],
      "metadata": {
        "colab": {
          "base_uri": "https://localhost:8080/"
        },
        "id": "0i86Ry0njsCZ",
        "outputId": "90f107fd-075c-43c2-bcdb-0aa257168d3a"
      },
      "execution_count": null,
      "outputs": [
        {
          "output_type": "stream",
          "name": "stdout",
          "text": [
            "2.2.1+cu121\n"
          ]
        }
      ]
    },
    {
      "cell_type": "markdown",
      "source": [
        "# Introduction to Tensors"
      ],
      "metadata": {
        "id": "68KePMWKm5c7"
      }
    },
    {
      "cell_type": "markdown",
      "source": [
        "# Creating Tensors"
      ],
      "metadata": {
        "id": "GUcdIC9IoiTj"
      }
    },
    {
      "cell_type": "markdown",
      "source": [
        "# Scalar"
      ],
      "metadata": {
        "id": "8TN49-SKolck"
      }
    },
    {
      "cell_type": "code",
      "source": [
        "scalar = torch.tensor(7)\n",
        "scalar"
      ],
      "metadata": {
        "colab": {
          "base_uri": "https://localhost:8080/"
        },
        "id": "BGik6v0HrWGz",
        "outputId": "f1416eeb-a71b-4eb1-9041-9f2c4cc8e7be"
      },
      "execution_count": null,
      "outputs": [
        {
          "output_type": "execute_result",
          "data": {
            "text/plain": [
              "tensor(7)"
            ]
          },
          "metadata": {},
          "execution_count": 4
        }
      ]
    },
    {
      "cell_type": "code",
      "source": [
        "scalar.ndim\n"
      ],
      "metadata": {
        "colab": {
          "base_uri": "https://localhost:8080/"
        },
        "id": "zDuwyfC9rcQo",
        "outputId": "f69c8c91-2481-4e2c-8aa8-0af7818e62e5"
      },
      "execution_count": null,
      "outputs": [
        {
          "output_type": "execute_result",
          "data": {
            "text/plain": [
              "0"
            ]
          },
          "metadata": {},
          "execution_count": 5
        }
      ]
    },
    {
      "cell_type": "code",
      "source": [
        "scalar.shape"
      ],
      "metadata": {
        "colab": {
          "base_uri": "https://localhost:8080/"
        },
        "id": "6ka_7FwVtPnT",
        "outputId": "55bfd972-b69d-46b6-e3ca-ba02aa66579b"
      },
      "execution_count": null,
      "outputs": [
        {
          "output_type": "execute_result",
          "data": {
            "text/plain": [
              "torch.Size([])"
            ]
          },
          "metadata": {},
          "execution_count": 6
        }
      ]
    },
    {
      "cell_type": "markdown",
      "source": [
        "# Get Tensor Back as Python Int"
      ],
      "metadata": {
        "id": "1FG_pkRmrly9"
      }
    },
    {
      "cell_type": "code",
      "source": [
        "scalar.item()"
      ],
      "metadata": {
        "colab": {
          "base_uri": "https://localhost:8080/"
        },
        "id": "UadccSTYrxQF",
        "outputId": "9e85044a-c1e9-4da8-8908-46e982b6eb88"
      },
      "execution_count": null,
      "outputs": [
        {
          "output_type": "execute_result",
          "data": {
            "text/plain": [
              "7"
            ]
          },
          "metadata": {},
          "execution_count": 7
        }
      ]
    },
    {
      "cell_type": "markdown",
      "source": [
        "# Vector"
      ],
      "metadata": {
        "id": "QcFhG_G8r0xr"
      }
    },
    {
      "cell_type": "code",
      "source": [
        "## Creating a Vector:\n",
        "\n",
        "vector = torch.tensor(\n",
        "    [7, 7]\n",
        ")\n",
        "\n",
        "vector"
      ],
      "metadata": {
        "colab": {
          "base_uri": "https://localhost:8080/"
        },
        "id": "1PFlzppTr6WL",
        "outputId": "09b14444-98d1-466c-dc08-5d713d7e241d"
      },
      "execution_count": null,
      "outputs": [
        {
          "output_type": "execute_result",
          "data": {
            "text/plain": [
              "tensor([7, 7])"
            ]
          },
          "metadata": {},
          "execution_count": 8
        }
      ]
    },
    {
      "cell_type": "code",
      "source": [
        "# Checking for vector dimension\n",
        "vector.ndim"
      ],
      "metadata": {
        "colab": {
          "base_uri": "https://localhost:8080/"
        },
        "id": "E5ewF_GbsINi",
        "outputId": "2cf3c83f-c41e-4bd2-8127-db33c2d46304"
      },
      "execution_count": null,
      "outputs": [
        {
          "output_type": "execute_result",
          "data": {
            "text/plain": [
              "1"
            ]
          },
          "metadata": {},
          "execution_count": 9
        }
      ]
    },
    {
      "cell_type": "code",
      "source": [
        "# Checking for Vector shape\n",
        "\n",
        "vector.shape"
      ],
      "metadata": {
        "colab": {
          "base_uri": "https://localhost:8080/"
        },
        "id": "NQ0Hfco5tGpp",
        "outputId": "7a70bb4a-478e-43ba-9023-25a6c99ee9dc"
      },
      "execution_count": null,
      "outputs": [
        {
          "output_type": "execute_result",
          "data": {
            "text/plain": [
              "torch.Size([2])"
            ]
          },
          "metadata": {},
          "execution_count": 10
        }
      ]
    },
    {
      "cell_type": "markdown",
      "source": [
        "# Creating MATRIX in Using Torch through the Tensor method"
      ],
      "metadata": {
        "id": "rT0dB29KsQdm"
      }
    },
    {
      "cell_type": "code",
      "source": [
        "MATRIX = torch.tensor(\n",
        "    [[7, 8],\n",
        "     [9, 10]]\n",
        ")\n",
        "\n",
        "MATRIX"
      ],
      "metadata": {
        "colab": {
          "base_uri": "https://localhost:8080/"
        },
        "id": "2yGSFHzasc5p",
        "outputId": "ab62d589-122a-425f-f4dd-b0fde4822704"
      },
      "execution_count": null,
      "outputs": [
        {
          "output_type": "execute_result",
          "data": {
            "text/plain": [
              "tensor([[ 7,  8],\n",
              "        [ 9, 10]])"
            ]
          },
          "metadata": {},
          "execution_count": 11
        }
      ]
    },
    {
      "cell_type": "markdown",
      "source": [
        "# Checking for MATRIX dimension\n"
      ],
      "metadata": {
        "id": "cUIf7qIws4WM"
      }
    },
    {
      "cell_type": "code",
      "source": [
        "MATRIX.ndim"
      ],
      "metadata": {
        "colab": {
          "base_uri": "https://localhost:8080/"
        },
        "id": "uaxwsZTOtAbo",
        "outputId": "e2cd790f-db7f-48ed-fd69-1f0714955491"
      },
      "execution_count": null,
      "outputs": [
        {
          "output_type": "execute_result",
          "data": {
            "text/plain": [
              "2"
            ]
          },
          "metadata": {},
          "execution_count": 12
        }
      ]
    },
    {
      "cell_type": "code",
      "source": [
        "MATRIX.shape"
      ],
      "metadata": {
        "colab": {
          "base_uri": "https://localhost:8080/"
        },
        "id": "hJISnP7KtCkm",
        "outputId": "0bc0bad5-f070-4271-8a73-dca1e1954106"
      },
      "execution_count": null,
      "outputs": [
        {
          "output_type": "execute_result",
          "data": {
            "text/plain": [
              "torch.Size([2, 2])"
            ]
          },
          "metadata": {},
          "execution_count": 13
        }
      ]
    },
    {
      "cell_type": "code",
      "source": [
        "MATRIX[0]"
      ],
      "metadata": {
        "colab": {
          "base_uri": "https://localhost:8080/"
        },
        "id": "TKuj_9AZtXQC",
        "outputId": "fa6e4e90-9fd4-47bb-fc00-db40a96e37a9"
      },
      "execution_count": null,
      "outputs": [
        {
          "output_type": "execute_result",
          "data": {
            "text/plain": [
              "tensor([7, 8])"
            ]
          },
          "metadata": {},
          "execution_count": 14
        }
      ]
    },
    {
      "cell_type": "code",
      "source": [
        "MATRIX[1]"
      ],
      "metadata": {
        "colab": {
          "base_uri": "https://localhost:8080/"
        },
        "id": "YLuGQho5tchI",
        "outputId": "0c9c5e0b-c2e9-48e3-da73-f213a20e90b6"
      },
      "execution_count": null,
      "outputs": [
        {
          "output_type": "execute_result",
          "data": {
            "text/plain": [
              "tensor([ 9, 10])"
            ]
          },
          "metadata": {},
          "execution_count": 15
        }
      ]
    },
    {
      "cell_type": "markdown",
      "source": [
        "# CREATING TENSORS"
      ],
      "metadata": {
        "id": "00RqJ42VtfTz"
      }
    },
    {
      "cell_type": "code",
      "source": [
        "TENSOR = torch.tensor(\n",
        "    [[[1, 2, 3],\n",
        "      [3, 6, 9],\n",
        "      [2, 4, 5]]]\n",
        ")\n",
        "\n",
        "TENSOR"
      ],
      "metadata": {
        "colab": {
          "base_uri": "https://localhost:8080/"
        },
        "id": "DSfAnC_Rtp7b",
        "outputId": "4a4cac35-102f-4252-de8a-a2fb19016a5c"
      },
      "execution_count": null,
      "outputs": [
        {
          "output_type": "execute_result",
          "data": {
            "text/plain": [
              "tensor([[[1, 2, 3],\n",
              "         [3, 6, 9],\n",
              "         [2, 4, 5]]])"
            ]
          },
          "metadata": {},
          "execution_count": 16
        }
      ]
    },
    {
      "cell_type": "code",
      "source": [
        "TENSOR.ndim"
      ],
      "metadata": {
        "colab": {
          "base_uri": "https://localhost:8080/"
        },
        "id": "FL5N5k1puBJG",
        "outputId": "bf92bb0d-c508-48c7-ad0d-9be8a24a4411"
      },
      "execution_count": null,
      "outputs": [
        {
          "output_type": "execute_result",
          "data": {
            "text/plain": [
              "3"
            ]
          },
          "metadata": {},
          "execution_count": 17
        }
      ]
    },
    {
      "cell_type": "code",
      "source": [
        "TENSOR.shape"
      ],
      "metadata": {
        "colab": {
          "base_uri": "https://localhost:8080/"
        },
        "id": "d-EBXqpQuEEQ",
        "outputId": "b0a5bdcc-7da5-4132-a578-34f8e5d68d2e"
      },
      "execution_count": null,
      "outputs": [
        {
          "output_type": "execute_result",
          "data": {
            "text/plain": [
              "torch.Size([1, 3, 3])"
            ]
          },
          "metadata": {},
          "execution_count": 18
        }
      ]
    },
    {
      "cell_type": "code",
      "source": [
        "TENSOR[0]"
      ],
      "metadata": {
        "colab": {
          "base_uri": "https://localhost:8080/"
        },
        "id": "8zJK903muHGN",
        "outputId": "0ba38832-c294-48d6-9370-5cc3b9af374b"
      },
      "execution_count": null,
      "outputs": [
        {
          "output_type": "execute_result",
          "data": {
            "text/plain": [
              "tensor([[1, 2, 3],\n",
              "        [3, 6, 9],\n",
              "        [2, 4, 5]])"
            ]
          },
          "metadata": {},
          "execution_count": 19
        }
      ]
    },
    {
      "cell_type": "markdown",
      "source": [
        "# Creating Random Tensors"
      ],
      "metadata": {
        "id": "OEkr5YhJuUCe"
      }
    },
    {
      "cell_type": "markdown",
      "source": [
        "## Why random tensors?"
      ],
      "metadata": {
        "id": "EB9XOnXVeETE"
      }
    },
    {
      "cell_type": "markdown",
      "source": [
        "Random tensors are important because the way many neural networks learn is that they start with tensors full of random numbers and then adjust those numbers to better represent the data.\n",
        "\n",
        "Start with randam numbers -> look at data -> update random numbers -> look at data -> update random numbers"
      ],
      "metadata": {
        "id": "98bd1tcFeMlV"
      }
    },
    {
      "cell_type": "code",
      "source": [
        "# Creating random tensors\n",
        "\n",
        "random_tensor = torch.rand(3, 4)"
      ],
      "metadata": {
        "id": "Ey9ydT-9eKtI"
      },
      "execution_count": null,
      "outputs": []
    },
    {
      "cell_type": "code",
      "source": [
        " # Visualising the tensor\n",
        "\n",
        " random_tensor"
      ],
      "metadata": {
        "colab": {
          "base_uri": "https://localhost:8080/"
        },
        "id": "PCDGghG5fGnl",
        "outputId": "19c3e79a-65a2-4c2b-d650-0bb09c862b9d"
      },
      "execution_count": null,
      "outputs": [
        {
          "output_type": "execute_result",
          "data": {
            "text/plain": [
              "tensor([[0.8659, 0.7448, 0.7857, 0.1338],\n",
              "        [0.0392, 0.9851, 0.0186, 0.5340],\n",
              "        [0.4072, 0.4336, 0.1671, 0.3775]])"
            ]
          },
          "metadata": {},
          "execution_count": 21
        }
      ]
    },
    {
      "cell_type": "code",
      "source": [
        "\n",
        "random_tensor1 = torch.rand(5, 10, 10)\n",
        "random_tensor1"
      ],
      "metadata": {
        "colab": {
          "base_uri": "https://localhost:8080/"
        },
        "id": "llh1eiBrO4Nx",
        "outputId": "9d8d67e9-db4c-433f-8777-e52e2d925a1e"
      },
      "execution_count": null,
      "outputs": [
        {
          "output_type": "execute_result",
          "data": {
            "text/plain": [
              "tensor([[[0.3429, 0.8423, 0.0227, 0.1739, 0.4202, 0.2260, 0.2901, 0.3523,\n",
              "          0.5056, 0.6911],\n",
              "         [0.7894, 0.9201, 0.9236, 0.0713, 0.0299, 0.7487, 0.2063, 0.0041,\n",
              "          0.5386, 0.1253],\n",
              "         [0.7180, 0.7363, 0.4132, 0.8077, 0.0294, 0.5687, 0.7777, 0.0105,\n",
              "          0.6889, 0.1463],\n",
              "         [0.4364, 0.6577, 0.4015, 0.5916, 0.0340, 0.0485, 0.2991, 0.6696,\n",
              "          0.3423, 0.3056],\n",
              "         [0.7399, 0.7948, 0.5873, 0.8981, 0.1839, 0.9525, 0.7079, 0.5011,\n",
              "          0.1213, 0.5535],\n",
              "         [0.0398, 0.8814, 0.9341, 0.9840, 0.2267, 0.8671, 0.4333, 0.1878,\n",
              "          0.5862, 0.6145],\n",
              "         [0.7642, 0.5085, 0.6788, 0.0928, 0.6671, 0.6151, 0.6743, 0.3326,\n",
              "          0.8657, 0.7429],\n",
              "         [0.5359, 0.1215, 0.1725, 0.6630, 0.3649, 0.5363, 0.4383, 0.5281,\n",
              "          0.3366, 0.7424],\n",
              "         [0.7189, 0.0939, 0.3089, 0.4975, 0.1049, 0.8952, 0.7949, 0.9185,\n",
              "          0.0893, 0.8957],\n",
              "         [0.1980, 0.4850, 0.7679, 0.0059, 0.1078, 0.1605, 0.2281, 0.6902,\n",
              "          0.5394, 0.7106]],\n",
              "\n",
              "        [[0.9091, 0.9204, 0.9006, 0.5669, 0.7844, 0.9190, 0.9414, 0.5342,\n",
              "          0.2832, 0.9548],\n",
              "         [0.6100, 0.1310, 0.5561, 0.5266, 0.9327, 0.6483, 0.8760, 0.7006,\n",
              "          0.0156, 0.9100],\n",
              "         [0.8131, 0.9746, 0.7494, 0.5183, 0.9528, 0.8238, 0.0338, 0.6736,\n",
              "          0.2981, 0.1356],\n",
              "         [0.5573, 0.7867, 0.3244, 0.4447, 0.9750, 0.5393, 0.3765, 0.2777,\n",
              "          0.7121, 0.5337],\n",
              "         [0.2730, 0.8129, 0.3986, 0.5080, 0.4313, 0.2275, 0.5155, 0.4878,\n",
              "          0.5877, 0.4234],\n",
              "         [0.3140, 0.0875, 0.0888, 0.7271, 0.2172, 0.4472, 0.9446, 0.9530,\n",
              "          0.5026, 0.9453],\n",
              "         [0.6366, 0.1846, 0.6091, 0.3737, 0.3964, 0.6045, 0.7510, 0.4366,\n",
              "          0.7689, 0.9081],\n",
              "         [0.8639, 0.8360, 0.1576, 0.5553, 0.3173, 0.8151, 0.3741, 0.7993,\n",
              "          0.9996, 0.4070],\n",
              "         [0.8085, 0.1981, 0.0264, 0.3848, 0.5008, 0.2093, 0.3221, 0.8980,\n",
              "          0.6974, 0.2352],\n",
              "         [0.7892, 0.7185, 0.3845, 0.4478, 0.5350, 0.9292, 0.8828, 0.2498,\n",
              "          0.0759, 0.9652]],\n",
              "\n",
              "        [[0.3995, 0.0997, 0.1041, 0.6564, 0.5912, 0.6839, 0.4314, 0.0822,\n",
              "          0.1759, 0.0926],\n",
              "         [0.2490, 0.8860, 0.0845, 0.3114, 0.9043, 0.1212, 0.0410, 0.2517,\n",
              "          0.8619, 0.3788],\n",
              "         [0.2148, 0.9288, 0.9926, 0.7582, 0.2496, 0.9975, 0.2542, 0.9786,\n",
              "          0.4025, 0.4713],\n",
              "         [0.9196, 0.0440, 0.1161, 0.6527, 0.8448, 0.4162, 0.9680, 0.4020,\n",
              "          0.1905, 0.5101],\n",
              "         [0.2630, 0.4663, 0.8655, 0.6576, 0.0346, 0.9810, 0.6625, 0.8356,\n",
              "          0.0547, 0.6650],\n",
              "         [0.6241, 0.7505, 0.7947, 0.9974, 0.3469, 0.1187, 0.4578, 0.6425,\n",
              "          0.8971, 0.5401],\n",
              "         [0.5172, 0.0421, 0.9867, 0.2458, 0.0498, 0.1616, 0.6937, 0.4509,\n",
              "          0.6397, 0.8625],\n",
              "         [0.3569, 0.1181, 0.1898, 0.3852, 0.7610, 0.1969, 0.1070, 0.3917,\n",
              "          0.9374, 0.5731],\n",
              "         [0.6823, 0.3908, 0.6756, 0.8241, 0.9133, 0.5138, 0.1876, 0.4688,\n",
              "          0.5754, 0.5527],\n",
              "         [0.8601, 0.9955, 0.4225, 0.3385, 0.0656, 0.9957, 0.7435, 0.2440,\n",
              "          0.9432, 0.9851]],\n",
              "\n",
              "        [[0.6885, 0.7086, 0.8402, 0.9578, 0.0479, 0.2844, 0.1303, 0.4474,\n",
              "          0.2646, 0.0358],\n",
              "         [0.3653, 0.9211, 0.0213, 0.6714, 0.2926, 0.3796, 0.0852, 0.5007,\n",
              "          0.4891, 0.5091],\n",
              "         [0.2908, 0.4894, 0.8066, 0.2581, 0.1126, 0.5561, 0.6779, 0.5321,\n",
              "          0.0841, 0.0593],\n",
              "         [0.9746, 0.4861, 0.3334, 0.2032, 0.6497, 0.3557, 0.4017, 0.8029,\n",
              "          0.5056, 0.1514],\n",
              "         [0.9467, 0.7836, 0.7617, 0.2044, 0.0841, 0.9387, 0.7856, 0.6888,\n",
              "          0.5108, 0.0908],\n",
              "         [0.0722, 0.7264, 0.0137, 0.7695, 0.9316, 0.8235, 0.6284, 0.0340,\n",
              "          0.1522, 0.3399],\n",
              "         [0.3963, 0.4938, 0.7033, 0.8624, 0.4095, 0.9304, 0.1277, 0.2653,\n",
              "          0.7192, 0.5304],\n",
              "         [0.6422, 0.2848, 0.5070, 0.9228, 0.1941, 0.8613, 0.2665, 0.0649,\n",
              "          0.9935, 0.7642],\n",
              "         [0.2159, 0.9921, 0.4436, 0.6684, 0.2868, 0.1007, 0.1043, 0.7540,\n",
              "          0.3739, 0.1303],\n",
              "         [0.9256, 0.3582, 0.9221, 0.5762, 0.5371, 0.9815, 0.6674, 0.3788,\n",
              "          0.7385, 0.7097]],\n",
              "\n",
              "        [[0.6795, 0.1255, 0.8438, 0.5840, 0.8690, 0.5185, 0.1007, 0.7257,\n",
              "          0.2400, 0.6966],\n",
              "         [0.9827, 0.9043, 0.8025, 0.2389, 0.5961, 0.3101, 0.7737, 0.5669,\n",
              "          0.5355, 0.5040],\n",
              "         [0.0259, 0.9525, 0.8499, 0.4351, 0.7771, 0.6027, 0.2074, 0.6894,\n",
              "          0.4382, 0.9287],\n",
              "         [0.8259, 0.2433, 0.5771, 0.6569, 0.0414, 0.1452, 0.7146, 0.6501,\n",
              "          0.9799, 0.1357],\n",
              "         [0.3016, 0.3497, 0.4953, 0.8095, 0.9823, 0.1778, 0.8479, 0.4931,\n",
              "          0.2484, 0.9524],\n",
              "         [0.9844, 0.2094, 0.5951, 0.8710, 0.4574, 0.9854, 0.3671, 0.7215,\n",
              "          0.8617, 0.9116],\n",
              "         [0.4077, 0.6741, 0.3408, 0.3712, 0.9564, 0.3357, 0.6578, 0.7456,\n",
              "          0.3044, 0.9669],\n",
              "         [0.4539, 0.7919, 0.0480, 0.8741, 0.7923, 0.3967, 0.9442, 0.4407,\n",
              "          0.3368, 0.3860],\n",
              "         [0.5754, 0.0264, 0.6372, 0.5637, 0.4598, 0.0142, 0.9707, 0.3963,\n",
              "          0.3352, 0.7358],\n",
              "         [0.5949, 0.2682, 0.2139, 0.4058, 0.3730, 0.8765, 0.4528, 0.4167,\n",
              "          0.4345, 0.6409]]])"
            ]
          },
          "metadata": {},
          "execution_count": 22
        }
      ]
    },
    {
      "cell_type": "markdown",
      "source": [
        "# Creating the Random Image Size Tensors"
      ],
      "metadata": {
        "id": "jxz-9QOYfTnB"
      }
    },
    {
      "cell_type": "code",
      "source": [
        "random_image_size_tensor = torch.rand(size=(3, 224, 224)) # color channel, height, width (R, G, B)\n"
      ],
      "metadata": {
        "id": "yZ7OsQofArX2"
      },
      "execution_count": null,
      "outputs": []
    },
    {
      "cell_type": "code",
      "source": [
        "# Visualizing the Tensor Shape and Dimension\n",
        "random_image_size_tensor.shape, random_image_size_tensor.ndim\n"
      ],
      "metadata": {
        "colab": {
          "base_uri": "https://localhost:8080/"
        },
        "id": "mP07A8-KBCId",
        "outputId": "26a808a9-ccf8-4eb6-c7b3-f08a7dd9a91f"
      },
      "execution_count": null,
      "outputs": [
        {
          "output_type": "execute_result",
          "data": {
            "text/plain": [
              "(torch.Size([3, 224, 224]), 3)"
            ]
          },
          "metadata": {},
          "execution_count": 24
        }
      ]
    },
    {
      "cell_type": "markdown",
      "source": [
        "* The shape and dimension above could be visualized separately as indicated below:"
      ],
      "metadata": {
        "id": "Y9N6sYEeBrKn"
      }
    },
    {
      "cell_type": "code",
      "source": [
        "# Visualizing the Tensor Shape\n",
        "random_image_size_tensor.shape\n"
      ],
      "metadata": {
        "colab": {
          "base_uri": "https://localhost:8080/"
        },
        "id": "iJftusR7BI49",
        "outputId": "06acfe55-91d3-4740-b9a7-904b7cb42df3"
      },
      "execution_count": null,
      "outputs": [
        {
          "output_type": "execute_result",
          "data": {
            "text/plain": [
              "torch.Size([3, 224, 224])"
            ]
          },
          "metadata": {},
          "execution_count": 25
        }
      ]
    },
    {
      "cell_type": "code",
      "source": [
        "# Visualizing the Tensor Dimension\n",
        "random_image_size_tensor.ndim\n"
      ],
      "metadata": {
        "colab": {
          "base_uri": "https://localhost:8080/"
        },
        "id": "NazgRlkqB77X",
        "outputId": "7829b3cd-5605-4118-b3e1-698218aef67a"
      },
      "execution_count": null,
      "outputs": [
        {
          "output_type": "execute_result",
          "data": {
            "text/plain": [
              "3"
            ]
          },
          "metadata": {},
          "execution_count": 26
        }
      ]
    },
    {
      "cell_type": "markdown",
      "source": [
        "# Ones and Zeros"
      ],
      "metadata": {
        "id": "9LXXnnf6SSyL"
      }
    },
    {
      "cell_type": "code",
      "source": [
        "# Zeros Tensor\n",
        "\n",
        "zeros = torch.zeros(size=(3, 4))\n",
        "zeros"
      ],
      "metadata": {
        "colab": {
          "base_uri": "https://localhost:8080/"
        },
        "id": "Jv3uibuJCEdb",
        "outputId": "c6b711f1-6133-407d-96f4-db8b117769b1"
      },
      "execution_count": null,
      "outputs": [
        {
          "output_type": "execute_result",
          "data": {
            "text/plain": [
              "tensor([[0., 0., 0., 0.],\n",
              "        [0., 0., 0., 0.],\n",
              "        [0., 0., 0., 0.]])"
            ]
          },
          "metadata": {},
          "execution_count": 27
        }
      ]
    },
    {
      "cell_type": "code",
      "source": [
        "# Ones Tensor\n",
        "\n",
        "ones = torch.ones(size=(3, 4))\n",
        "ones"
      ],
      "metadata": {
        "colab": {
          "base_uri": "https://localhost:8080/"
        },
        "id": "dOPSWBRYSkeY",
        "outputId": "1ec7f732-19d7-42d4-a29f-22961128349f"
      },
      "execution_count": null,
      "outputs": [
        {
          "output_type": "execute_result",
          "data": {
            "text/plain": [
              "tensor([[1., 1., 1., 1.],\n",
              "        [1., 1., 1., 1.],\n",
              "        [1., 1., 1., 1.]])"
            ]
          },
          "metadata": {},
          "execution_count": 28
        }
      ]
    },
    {
      "cell_type": "code",
      "source": [
        "ones.dtype"
      ],
      "metadata": {
        "colab": {
          "base_uri": "https://localhost:8080/"
        },
        "id": "3Th7rAZeSuIY",
        "outputId": "ddf41692-8160-42d6-e2fe-2fb597922a57"
      },
      "execution_count": null,
      "outputs": [
        {
          "output_type": "execute_result",
          "data": {
            "text/plain": [
              "torch.float32"
            ]
          },
          "metadata": {},
          "execution_count": 29
        }
      ]
    },
    {
      "cell_type": "markdown",
      "source": [
        "## The default data type of tensors is float"
      ],
      "metadata": {
        "id": "OUftd4qvSyOZ"
      }
    },
    {
      "cell_type": "markdown",
      "source": [
        "# Creating a Range of Tensors and Tensors-like"
      ],
      "metadata": {
        "id": "H1xjKE0uSwTq"
      }
    },
    {
      "cell_type": "code",
      "source": [
        "zero_to_ten_tensor = torch.arange(0, 11)\n",
        "zero_to_ten_tensor"
      ],
      "metadata": {
        "colab": {
          "base_uri": "https://localhost:8080/"
        },
        "id": "3W1xVJyZaoAe",
        "outputId": "c907567b-f7bb-41c1-d643-5b17e71707e0"
      },
      "execution_count": null,
      "outputs": [
        {
          "output_type": "execute_result",
          "data": {
            "text/plain": [
              "tensor([ 0,  1,  2,  3,  4,  5,  6,  7,  8,  9, 10])"
            ]
          },
          "metadata": {},
          "execution_count": 30
        }
      ]
    },
    {
      "cell_type": "code",
      "source": [
        "one_to_ten_tensor_range = torch.arange(1, 11)\n",
        "one_to_ten_tensor_range"
      ],
      "metadata": {
        "colab": {
          "base_uri": "https://localhost:8080/"
        },
        "id": "vYjQv-9_a0s-",
        "outputId": "3dbf175c-fb92-4f25-bc6f-6a6667b5f046"
      },
      "execution_count": null,
      "outputs": [
        {
          "output_type": "execute_result",
          "data": {
            "text/plain": [
              "tensor([ 1,  2,  3,  4,  5,  6,  7,  8,  9, 10])"
            ]
          },
          "metadata": {},
          "execution_count": 31
        }
      ]
    },
    {
      "cell_type": "code",
      "source": [
        "one_to_ten_tensor = torch.arange(start=1, end=11, step=1)\n",
        "one_to_ten_tensor"
      ],
      "metadata": {
        "colab": {
          "base_uri": "https://localhost:8080/"
        },
        "id": "IBzoC1pgbBO1",
        "outputId": "6dbbe71f-965a-4368-e024-11b74e726cfe"
      },
      "execution_count": null,
      "outputs": [
        {
          "output_type": "execute_result",
          "data": {
            "text/plain": [
              "tensor([ 1,  2,  3,  4,  5,  6,  7,  8,  9, 10])"
            ]
          },
          "metadata": {},
          "execution_count": 32
        }
      ]
    },
    {
      "cell_type": "code",
      "source": [
        "step_tensor_range = torch.arange(start=1, end=500, step=67)\n",
        "step_tensor_range"
      ],
      "metadata": {
        "colab": {
          "base_uri": "https://localhost:8080/"
        },
        "id": "x-2UAWQ4choX",
        "outputId": "f01ae139-12dc-48d9-d976-30b25d32c0c7"
      },
      "execution_count": null,
      "outputs": [
        {
          "output_type": "execute_result",
          "data": {
            "text/plain": [
              "tensor([  1,  68, 135, 202, 269, 336, 403, 470])"
            ]
          },
          "metadata": {},
          "execution_count": 33
        }
      ]
    },
    {
      "cell_type": "markdown",
      "source": [
        "# Creating Tensors Like"
      ],
      "metadata": {
        "id": "UbC-fE5uc7HD"
      }
    },
    {
      "cell_type": "code",
      "source": [
        "ten_zeros = torch.zeros_like(input=one_to_ten_tensor)\n",
        "ten_zeros"
      ],
      "metadata": {
        "colab": {
          "base_uri": "https://localhost:8080/"
        },
        "id": "oB6-hWFRdtsy",
        "outputId": "19d5bac3-05fa-4dd0-c033-880c0a27d515"
      },
      "execution_count": null,
      "outputs": [
        {
          "output_type": "execute_result",
          "data": {
            "text/plain": [
              "tensor([0, 0, 0, 0, 0, 0, 0, 0, 0, 0])"
            ]
          },
          "metadata": {},
          "execution_count": 34
        }
      ]
    },
    {
      "cell_type": "markdown",
      "source": [
        "# Tensor datatype\n",
        "\n",
        "**Note**: Tensor datatype is oneof the 3 error you'll run into with PyTorch & deep learning:\n",
        "\n",
        "1. Tensors not right datatype\n",
        "2. Tensors not right shape\n",
        "3. Tensors not on the right device\n",
        "\n",
        "# Precision in Computing:-> https://en.wikipedia.org/wiki/Precision_(computer_science)#:~:text=In%20computer%20science%2C%20the%20precision,used%20to%20express%20a%20value."
      ],
      "metadata": {
        "id": "xmMhIZEweAET"
      }
    },
    {
      "cell_type": "code",
      "source": [
        "# Float 32 tensor\n",
        "\n",
        "float_32_tensor = torch.tensor([3.0, 6.0, 9.0],\n",
        "                               dtype=None, # What datatype is the tenso (e.g. float32 or float16)\n",
        "                               device=None, # What device is your tensor on.\n",
        "                               requires_grad=False, # Whether or not to track gradients with this tensors operation.\n",
        "                              )\n",
        "\n",
        "float_32_tensor"
      ],
      "metadata": {
        "colab": {
          "base_uri": "https://localhost:8080/"
        },
        "id": "_E4ko-vo2VON",
        "outputId": "f44a0500-746e-4ec3-ae44-332f8fef13da"
      },
      "execution_count": null,
      "outputs": [
        {
          "output_type": "execute_result",
          "data": {
            "text/plain": [
              "tensor([3., 6., 9.])"
            ]
          },
          "metadata": {},
          "execution_count": 35
        }
      ]
    },
    {
      "cell_type": "code",
      "source": [
        "float_32_tensor.dtype"
      ],
      "metadata": {
        "colab": {
          "base_uri": "https://localhost:8080/"
        },
        "id": "3etGf9Oc3Qzw",
        "outputId": "e2477a6e-0626-407d-a51b-207e06c68c42"
      },
      "execution_count": null,
      "outputs": [
        {
          "output_type": "execute_result",
          "data": {
            "text/plain": [
              "torch.float32"
            ]
          },
          "metadata": {},
          "execution_count": 36
        }
      ]
    },
    {
      "cell_type": "code",
      "source": [
        "# Converting the default tensor float32 datatype to tensor float16 datatype\n",
        "\n",
        "float_16_tensor = float_32_tensor.type(torch.float16)\n",
        "float_16_tensor"
      ],
      "metadata": {
        "colab": {
          "base_uri": "https://localhost:8080/"
        },
        "id": "ZwT87DpP3qiY",
        "outputId": "093f5e9e-ac8a-41f8-bb76-f3ea828be2be"
      },
      "execution_count": null,
      "outputs": [
        {
          "output_type": "execute_result",
          "data": {
            "text/plain": [
              "tensor([3., 6., 9.], dtype=torch.float16)"
            ]
          },
          "metadata": {},
          "execution_count": 37
        }
      ]
    },
    {
      "cell_type": "markdown",
      "source": [
        "**Note**: One may also use 'torch.half' to change the tensor float32 to tensor float16 datatype"
      ],
      "metadata": {
        "id": "PN6KYeBG4Ru5"
      }
    },
    {
      "cell_type": "code",
      "source": [
        "float_16_tensor = float_32_tensor.type(torch.half)\n",
        "float_16_tensor"
      ],
      "metadata": {
        "colab": {
          "base_uri": "https://localhost:8080/"
        },
        "id": "Fv8SCbcH4INY",
        "outputId": "41c816cd-5e9a-4f09-a375-41e371781c20"
      },
      "execution_count": null,
      "outputs": [
        {
          "output_type": "execute_result",
          "data": {
            "text/plain": [
              "tensor([3., 6., 9.], dtype=torch.float16)"
            ]
          },
          "metadata": {},
          "execution_count": 38
        }
      ]
    },
    {
      "cell_type": "code",
      "source": [
        "float_32_tensor * float_16_tensor"
      ],
      "metadata": {
        "colab": {
          "base_uri": "https://localhost:8080/"
        },
        "id": "Hek0Ki8R4Ok_",
        "outputId": "0a7227f8-e9f1-4154-c34a-0a7dd3310c88"
      },
      "execution_count": null,
      "outputs": [
        {
          "output_type": "execute_result",
          "data": {
            "text/plain": [
              "tensor([ 9., 36., 81.])"
            ]
          },
          "metadata": {},
          "execution_count": 39
        }
      ]
    },
    {
      "cell_type": "code",
      "source": [
        "int_32_tensor = torch.tensor([3, 6, 9], dtype=torch.long)\n",
        "int_32_tensor"
      ],
      "metadata": {
        "colab": {
          "base_uri": "https://localhost:8080/"
        },
        "id": "cwO56j0lv-Rw",
        "outputId": "0b6ed5eb-81e8-4d98-f888-4c9d197d3b85"
      },
      "execution_count": null,
      "outputs": [
        {
          "output_type": "execute_result",
          "data": {
            "text/plain": [
              "tensor([3, 6, 9])"
            ]
          },
          "metadata": {},
          "execution_count": 40
        }
      ]
    },
    {
      "cell_type": "code",
      "source": [
        "float_32_tensor * int_32_tensor"
      ],
      "metadata": {
        "colab": {
          "base_uri": "https://localhost:8080/"
        },
        "id": "a8XP6qzowNuq",
        "outputId": "cccde640-0233-46db-82a6-427f192a40ae"
      },
      "execution_count": null,
      "outputs": [
        {
          "output_type": "execute_result",
          "data": {
            "text/plain": [
              "tensor([ 9., 36., 81.])"
            ]
          },
          "metadata": {},
          "execution_count": 41
        }
      ]
    },
    {
      "cell_type": "markdown",
      "source": [
        "# Getting information from tensors\n",
        "\n",
        "\n",
        "1. Tensors not right datatype - to do get datatype from a tensor, can use 'tensor.dtype'\n",
        "2. Tensors not right shape - to get shape from a tensor, can use tensor.shape\n",
        "3. Tensors not on the right device - to get device from a tensor, can use tensor.device\n"
      ],
      "metadata": {
        "id": "R7rZGkfrwdvf"
      }
    },
    {
      "cell_type": "markdown",
      "source": [
        "# Create a tensor"
      ],
      "metadata": {
        "id": "cNyu_N4XwVSa"
      }
    },
    {
      "cell_type": "code",
      "source": [
        "some_tensor = torch.rand(3, 4)\n",
        "some_tensor"
      ],
      "metadata": {
        "colab": {
          "base_uri": "https://localhost:8080/"
        },
        "id": "ttRx7tjvxMy2",
        "outputId": "c3cec3b0-76ae-4a49-973e-ae89caf4fbfe"
      },
      "execution_count": null,
      "outputs": [
        {
          "output_type": "execute_result",
          "data": {
            "text/plain": [
              "tensor([[0.6464, 0.6677, 0.5853, 0.8910],\n",
              "        [0.3410, 0.6359, 0.4802, 0.5727],\n",
              "        [0.3949, 0.9072, 0.4159, 0.5210]])"
            ]
          },
          "metadata": {},
          "execution_count": 42
        }
      ]
    },
    {
      "cell_type": "code",
      "source": [
        "# Finding out details about some tensor\n",
        "print(\"The tensor created is:\\n\")\n",
        "print(some_tensor)\n",
        "print()\n",
        "print(f\"Datatype of tensor: {some_tensor.dtype}\\n\")\n",
        "print(f\"Shape of tensor: {some_tensor.shape}\\n\")\n",
        "print(f\"Device tensor is on: {some_tensor.device}\")\n"
      ],
      "metadata": {
        "colab": {
          "base_uri": "https://localhost:8080/"
        },
        "id": "3hr178uPxT4D",
        "outputId": "a9ce0480-fe4c-46f9-8911-ec04261ae961"
      },
      "execution_count": null,
      "outputs": [
        {
          "output_type": "stream",
          "name": "stdout",
          "text": [
            "The tensor created is:\n",
            "\n",
            "tensor([[0.6464, 0.6677, 0.5853, 0.8910],\n",
            "        [0.3410, 0.6359, 0.4802, 0.5727],\n",
            "        [0.3949, 0.9072, 0.4159, 0.5210]])\n",
            "\n",
            "Datatype of tensor: torch.float32\n",
            "\n",
            "Shape of tensor: torch.Size([3, 4])\n",
            "\n",
            "Device tensor is on: cpu\n"
          ]
        }
      ]
    },
    {
      "cell_type": "markdown",
      "source": [
        "# Manipulating Tensors (tensor operations)\n",
        "\n",
        "Tensor operations include:\n",
        "\n",
        "* Addition\n",
        "* Subtraction\n",
        "* Multiplication (element-wise)\n",
        "* Division\n",
        "* Matrix Multiplication"
      ],
      "metadata": {
        "id": "z9IjmcZryIjh"
      }
    },
    {
      "cell_type": "code",
      "source": [
        "# Create a tensor and add numbers on it\n",
        "\n",
        "tensor = torch.tensor([1, 2, 3])\n",
        "tensor"
      ],
      "metadata": {
        "colab": {
          "base_uri": "https://localhost:8080/"
        },
        "id": "MC8Ocmg31H09",
        "outputId": "7623c272-8af5-4ccb-cf51-c35ed168f210"
      },
      "execution_count": null,
      "outputs": [
        {
          "output_type": "execute_result",
          "data": {
            "text/plain": [
              "tensor([1, 2, 3])"
            ]
          },
          "metadata": {},
          "execution_count": 44
        }
      ]
    },
    {
      "cell_type": "code",
      "source": [
        "# Adding up a number on a tensor\n",
        "tensor + 10\n"
      ],
      "metadata": {
        "colab": {
          "base_uri": "https://localhost:8080/"
        },
        "id": "GKJbIv_U1TbO",
        "outputId": "d1fb5439-35b0-417b-bfc8-51b525bf0778"
      },
      "execution_count": null,
      "outputs": [
        {
          "output_type": "execute_result",
          "data": {
            "text/plain": [
              "tensor([11, 12, 13])"
            ]
          },
          "metadata": {},
          "execution_count": 45
        }
      ]
    },
    {
      "cell_type": "code",
      "source": [
        "tensor + 100"
      ],
      "metadata": {
        "colab": {
          "base_uri": "https://localhost:8080/"
        },
        "id": "LTu_OIpb1XCv",
        "outputId": "f113292d-6797-463b-da22-b45ddcd33959"
      },
      "execution_count": null,
      "outputs": [
        {
          "output_type": "execute_result",
          "data": {
            "text/plain": [
              "tensor([101, 102, 103])"
            ]
          },
          "metadata": {},
          "execution_count": 46
        }
      ]
    },
    {
      "cell_type": "code",
      "source": [
        "# Multiplication of tensor by a number\n",
        "\n",
        "tensor * 20"
      ],
      "metadata": {
        "colab": {
          "base_uri": "https://localhost:8080/"
        },
        "id": "8E-4Ucf51l8c",
        "outputId": "d65338a5-c90b-4a69-d606-ca5033bf3740"
      },
      "execution_count": null,
      "outputs": [
        {
          "output_type": "execute_result",
          "data": {
            "text/plain": [
              "tensor([20, 40, 60])"
            ]
          },
          "metadata": {},
          "execution_count": 47
        }
      ]
    },
    {
      "cell_type": "code",
      "source": [
        "# Subtracting a number from a tensor\n",
        "\n",
        "tensor - 10"
      ],
      "metadata": {
        "colab": {
          "base_uri": "https://localhost:8080/"
        },
        "id": "IOOYZRoI1tzk",
        "outputId": "15b9c28a-19f0-4260-ef93-74e1c510eaca"
      },
      "execution_count": null,
      "outputs": [
        {
          "output_type": "execute_result",
          "data": {
            "text/plain": [
              "tensor([-9, -8, -7])"
            ]
          },
          "metadata": {},
          "execution_count": 48
        }
      ]
    },
    {
      "cell_type": "code",
      "source": [
        "# Using in-built fucntions\n",
        "\n",
        "torch.mul(tensor, 10)"
      ],
      "metadata": {
        "colab": {
          "base_uri": "https://localhost:8080/"
        },
        "id": "--Yq638G13rE",
        "outputId": "965fc4c5-879b-4107-e91a-c6a90af9f70b"
      },
      "execution_count": null,
      "outputs": [
        {
          "output_type": "execute_result",
          "data": {
            "text/plain": [
              "tensor([10, 20, 30])"
            ]
          },
          "metadata": {},
          "execution_count": 49
        }
      ]
    },
    {
      "cell_type": "code",
      "source": [
        "torch.add(tensor, 15)"
      ],
      "metadata": {
        "colab": {
          "base_uri": "https://localhost:8080/"
        },
        "id": "cay88pjn2D6P",
        "outputId": "7ba230e4-4743-488a-f11e-7e0e7b94141a"
      },
      "execution_count": null,
      "outputs": [
        {
          "output_type": "execute_result",
          "data": {
            "text/plain": [
              "tensor([16, 17, 18])"
            ]
          },
          "metadata": {},
          "execution_count": 50
        }
      ]
    },
    {
      "cell_type": "markdown",
      "source": [
        "# Two main ways of performing multiplication in neural networks and deep learning:\n",
        "\n",
        "1. Element-wise multiplicaiton\n",
        "2. Matrix multiplication (dot product)\n",
        "\n",
        "More information on multiplying matrices - https://www.mathsisfun.com/algebra/matrix-multiplying.html\n",
        "\n",
        "# There are two mail rules that performing matrix multiplication needs to satisfy:\n",
        "\n",
        "1. The **inner dimensions** must match:\n",
        "\n",
        "* `(3, 2) @ (3, 2)` won't work\n",
        "* `(2, 3) @ (3, 2)` will work\n",
        "* `(3, 2) @ (2, 3)` will work\n",
        "\n",
        "2. The resulting matrix has the shape of the **outer dimensions**:\n",
        "\n",
        "* `(2, 3) @ (3, 2)` -> `(2, 3)`\n",
        "* `(3, 2) @ (2, 3)` - > `(3, 3)`"
      ],
      "metadata": {
        "id": "mea9B13v2Mxr"
      }
    },
    {
      "cell_type": "code",
      "source": [
        "torch.matmul(torch.rand(3, 2), torch.rand(2, 3))"
      ],
      "metadata": {
        "colab": {
          "base_uri": "https://localhost:8080/"
        },
        "id": "Q29f_X4GtjLp",
        "outputId": "6eaa1eaa-c679-49c1-82d9-09f9ff9f7a76"
      },
      "execution_count": null,
      "outputs": [
        {
          "output_type": "execute_result",
          "data": {
            "text/plain": [
              "tensor([[0.7199, 0.5814, 0.5064],\n",
              "        [1.0217, 0.6635, 0.8942],\n",
              "        [0.2886, 0.2725, 0.1602]])"
            ]
          },
          "metadata": {},
          "execution_count": 51
        }
      ]
    },
    {
      "cell_type": "code",
      "source": [
        "# Element wise multiplication\n",
        "\n",
        "print(tensor, \"*\", tensor)\n",
        "print(f\"Equals: {tensor * tensor}\")"
      ],
      "metadata": {
        "colab": {
          "base_uri": "https://localhost:8080/"
        },
        "id": "3a8shNy7tvqP",
        "outputId": "160868ca-8108-4dca-9ad4-e40cb2d186b6"
      },
      "execution_count": null,
      "outputs": [
        {
          "output_type": "stream",
          "name": "stdout",
          "text": [
            "tensor([1, 2, 3]) * tensor([1, 2, 3])\n",
            "Equals: tensor([1, 4, 9])\n"
          ]
        }
      ]
    },
    {
      "cell_type": "code",
      "source": [
        "# Throwing an Error:\n",
        "\n",
        "# torch.matmul(torch.rand(10, 10), torch.rand(7, 10)).shape"
      ],
      "metadata": {
        "id": "PvP0ChPAuR6Z"
      },
      "execution_count": null,
      "outputs": []
    },
    {
      "cell_type": "markdown",
      "source": [
        "### This is because of in the inner dimensions mismatch."
      ],
      "metadata": {
        "id": "vkQA4F6TuglE"
      }
    },
    {
      "cell_type": "code",
      "source": [
        "torch.matmul(torch.rand(10, 7), torch.rand(7, 10)).shape"
      ],
      "metadata": {
        "colab": {
          "base_uri": "https://localhost:8080/"
        },
        "id": "5pIogj80uMLT",
        "outputId": "4d8ad78c-f198-42e7-df78-556d8289e2ea"
      },
      "execution_count": null,
      "outputs": [
        {
          "output_type": "execute_result",
          "data": {
            "text/plain": [
              "torch.Size([10, 10])"
            ]
          },
          "metadata": {},
          "execution_count": 54
        }
      ]
    },
    {
      "cell_type": "markdown",
      "source": [
        "# Fiding the min, max, mean, sum, etc. (tensor aggregation)"
      ],
      "metadata": {
        "id": "P3sdXXmHuxD-"
      }
    },
    {
      "cell_type": "code",
      "source": [
        "# Creating a tensor\n",
        "\n",
        "x = torch.arange(0, 100, 10)\n",
        "x"
      ],
      "metadata": {
        "colab": {
          "base_uri": "https://localhost:8080/"
        },
        "id": "dejk2mRtWSZo",
        "outputId": "576b75b8-a840-4f2a-d7aa-8aa498665eb9"
      },
      "execution_count": null,
      "outputs": [
        {
          "output_type": "execute_result",
          "data": {
            "text/plain": [
              "tensor([ 0, 10, 20, 30, 40, 50, 60, 70, 80, 90])"
            ]
          },
          "metadata": {},
          "execution_count": 55
        }
      ]
    },
    {
      "cell_type": "code",
      "source": [
        "# Finding the min\n",
        "\n",
        "torch.min(x), x.min()"
      ],
      "metadata": {
        "colab": {
          "base_uri": "https://localhost:8080/"
        },
        "id": "9XSpqNjwWWCs",
        "outputId": "0585ff38-4393-4aba-c8ab-123e0714aca0"
      },
      "execution_count": null,
      "outputs": [
        {
          "output_type": "execute_result",
          "data": {
            "text/plain": [
              "(tensor(0), tensor(0))"
            ]
          },
          "metadata": {},
          "execution_count": 56
        }
      ]
    },
    {
      "cell_type": "code",
      "source": [
        "# Finding the max\n",
        "\n",
        "torch.max(x), x.max()"
      ],
      "metadata": {
        "colab": {
          "base_uri": "https://localhost:8080/"
        },
        "id": "xN7aGD4XWary",
        "outputId": "c2e4ecd9-db1d-4f0c-9d00-0385b13d325b"
      },
      "execution_count": null,
      "outputs": [
        {
          "output_type": "execute_result",
          "data": {
            "text/plain": [
              "(tensor(90), tensor(90))"
            ]
          },
          "metadata": {},
          "execution_count": 57
        }
      ]
    },
    {
      "cell_type": "code",
      "source": [
        "# Find the mean - note: the torch.mean() function requires a tensor of float32 datatype to work\n",
        "\n",
        "torch.mean(x.type(torch.float32)), x.type(torch.float32).mean()"
      ],
      "metadata": {
        "colab": {
          "base_uri": "https://localhost:8080/"
        },
        "id": "29VsJOT5Wfji",
        "outputId": "d20f1d9b-79ca-4c67-fc6c-f4d38bd78ae0"
      },
      "execution_count": null,
      "outputs": [
        {
          "output_type": "execute_result",
          "data": {
            "text/plain": [
              "(tensor(45.), tensor(45.))"
            ]
          },
          "metadata": {},
          "execution_count": 58
        }
      ]
    },
    {
      "cell_type": "markdown",
      "source": [
        "# Finding the position min and max"
      ],
      "metadata": {
        "id": "ZmCVZ5WUWi9q"
      }
    },
    {
      "cell_type": "code",
      "source": [
        "x = torch.arange(1, 100, 10)\n",
        "x"
      ],
      "metadata": {
        "colab": {
          "base_uri": "https://localhost:8080/"
        },
        "id": "LlRHa6cqn1my",
        "outputId": "b9955a10-8492-4e2d-b664-8a51228ddb7c"
      },
      "execution_count": null,
      "outputs": [
        {
          "output_type": "execute_result",
          "data": {
            "text/plain": [
              "tensor([ 1, 11, 21, 31, 41, 51, 61, 71, 81, 91])"
            ]
          },
          "metadata": {},
          "execution_count": 59
        }
      ]
    },
    {
      "cell_type": "code",
      "source": [
        "# Find the position in tensor that has the minimum value with argmin() and -> return index position of target tensor where the minimum value with argmin()\n",
        "\n",
        "x.argmin()"
      ],
      "metadata": {
        "colab": {
          "base_uri": "https://localhost:8080/"
        },
        "id": "2e6SHiXEnhli",
        "outputId": "270b4022-71e4-429c-9b1b-ce5631143324"
      },
      "execution_count": null,
      "outputs": [
        {
          "output_type": "execute_result",
          "data": {
            "text/plain": [
              "tensor(0)"
            ]
          },
          "metadata": {},
          "execution_count": 60
        }
      ]
    },
    {
      "cell_type": "code",
      "source": [
        "# Find the postion in tensor that has the maximum value with argmax()\n",
        "\n",
        "x.argmax()"
      ],
      "metadata": {
        "colab": {
          "base_uri": "https://localhost:8080/"
        },
        "id": "-bkH8F1zogUx",
        "outputId": "dec19782-ae95-4329-daf1-2a7eb55a0f34"
      },
      "execution_count": null,
      "outputs": [
        {
          "output_type": "execute_result",
          "data": {
            "text/plain": [
              "tensor(9)"
            ]
          },
          "metadata": {},
          "execution_count": 61
        }
      ]
    },
    {
      "cell_type": "code",
      "source": [
        "# Finding the value at a certain position number in a tensor\n",
        "\n",
        "x[9]"
      ],
      "metadata": {
        "colab": {
          "base_uri": "https://localhost:8080/"
        },
        "id": "fQrpWrLForRr",
        "outputId": "e6400fc1-d15c-4dcc-bc9c-94297318da59"
      },
      "execution_count": null,
      "outputs": [
        {
          "output_type": "execute_result",
          "data": {
            "text/plain": [
              "tensor(91)"
            ]
          },
          "metadata": {},
          "execution_count": 62
        }
      ]
    },
    {
      "cell_type": "code",
      "source": [
        "x[4]"
      ],
      "metadata": {
        "colab": {
          "base_uri": "https://localhost:8080/"
        },
        "id": "pcVhXTldo2qD",
        "outputId": "216bbc0e-b6d7-43bc-963e-5dcc5540cb79"
      },
      "execution_count": null,
      "outputs": [
        {
          "output_type": "execute_result",
          "data": {
            "text/plain": [
              "tensor(41)"
            ]
          },
          "metadata": {},
          "execution_count": 63
        }
      ]
    },
    {
      "cell_type": "markdown",
      "source": [
        "## Reshaping, stacking, squeezing, and unsqueezing tensors\n",
        "\n",
        "* Reshaping - reshapes an input tensor to a defined shape.\n",
        "* view - Returns a view of an input tensor of certain shape but keep the same memory as the original tensor.\n",
        "*  Stacking - Combines multiple tensors on top of each other (torch.vstack) or side by side (torch.hstack).\n",
        "* Squeeze - Removes all `1` dimension to a target tensor.\n",
        "* Permute - Returns a view of the input with dimensions permuted (swapped) in a certain way."
      ],
      "metadata": {
        "id": "TDv1g20So5dY"
      }
    },
    {
      "cell_type": "code",
      "source": [
        "# First creating a tensor\n",
        "import torch\n",
        "x = torch.arange(1.,11.)\n",
        "x, x.shape"
      ],
      "metadata": {
        "colab": {
          "base_uri": "https://localhost:8080/"
        },
        "id": "7up8uJAPqYzj",
        "outputId": "3ef3b356-120a-4a73-b5df-410773ef88f3"
      },
      "execution_count": null,
      "outputs": [
        {
          "output_type": "execute_result",
          "data": {
            "text/plain": [
              "(tensor([ 1.,  2.,  3.,  4.,  5.,  6.,  7.,  8.,  9., 10.]), torch.Size([10]))"
            ]
          },
          "metadata": {},
          "execution_count": 64
        }
      ]
    },
    {
      "cell_type": "code",
      "source": [
        "# Add an extra dimension\n",
        "x_reshaped = x.reshape(10, 1)\n",
        "x_reshaped, x_reshaped.shape"
      ],
      "metadata": {
        "colab": {
          "base_uri": "https://localhost:8080/"
        },
        "id": "KKHmtYjnqYWk",
        "outputId": "a55929b1-ce60-4dba-d518-5fb1450c717f"
      },
      "execution_count": null,
      "outputs": [
        {
          "output_type": "execute_result",
          "data": {
            "text/plain": [
              "(tensor([[ 1.],\n",
              "         [ 2.],\n",
              "         [ 3.],\n",
              "         [ 4.],\n",
              "         [ 5.],\n",
              "         [ 6.],\n",
              "         [ 7.],\n",
              "         [ 8.],\n",
              "         [ 9.],\n",
              "         [10.]]),\n",
              " torch.Size([10, 1]))"
            ]
          },
          "metadata": {},
          "execution_count": 65
        }
      ]
    },
    {
      "cell_type": "code",
      "source": [
        "x_reshaped1 = x.reshape(5, 2)\n",
        "x_reshaped1, x_reshaped1.shape"
      ],
      "metadata": {
        "colab": {
          "base_uri": "https://localhost:8080/"
        },
        "id": "Ds-g4Y1SrykD",
        "outputId": "88f28439-67b0-4500-b256-2e588cf5c4e4"
      },
      "execution_count": null,
      "outputs": [
        {
          "output_type": "execute_result",
          "data": {
            "text/plain": [
              "(tensor([[ 1.,  2.],\n",
              "         [ 3.,  4.],\n",
              "         [ 5.,  6.],\n",
              "         [ 7.,  8.],\n",
              "         [ 9., 10.]]),\n",
              " torch.Size([5, 2]))"
            ]
          },
          "metadata": {},
          "execution_count": 66
        }
      ]
    },
    {
      "cell_type": "code",
      "source": [
        "x_reshaped2 = x.reshape(2, 5)\n",
        "x_reshaped2, x_reshaped2.shape"
      ],
      "metadata": {
        "colab": {
          "base_uri": "https://localhost:8080/"
        },
        "id": "1ECieoaPsEvA",
        "outputId": "bbc8b487-6f11-4d0b-b1bf-01b7e36d9c0c"
      },
      "execution_count": null,
      "outputs": [
        {
          "output_type": "execute_result",
          "data": {
            "text/plain": [
              "(tensor([[ 1.,  2.,  3.,  4.,  5.],\n",
              "         [ 6.,  7.,  8.,  9., 10.]]),\n",
              " torch.Size([2, 5]))"
            ]
          },
          "metadata": {},
          "execution_count": 67
        }
      ]
    },
    {
      "cell_type": "code",
      "source": [
        "# First creating a tensor\n",
        "\n",
        "import torch\n",
        "x = torch.arange(1., 13.)\n",
        "x"
      ],
      "metadata": {
        "colab": {
          "base_uri": "https://localhost:8080/"
        },
        "id": "f_fA852Vs0Mx",
        "outputId": "4933bfd4-c766-446a-b3ec-f5b64a58ac97"
      },
      "execution_count": null,
      "outputs": [
        {
          "output_type": "execute_result",
          "data": {
            "text/plain": [
              "tensor([ 1.,  2.,  3.,  4.,  5.,  6.,  7.,  8.,  9., 10., 11., 12.])"
            ]
          },
          "metadata": {},
          "execution_count": 68
        }
      ]
    },
    {
      "cell_type": "code",
      "source": [
        "# Add an extra dimension\n",
        "\n",
        "x_reshaped = x.reshape(2, 6)\n",
        "x_reshaped, x_reshaped.shape"
      ],
      "metadata": {
        "colab": {
          "base_uri": "https://localhost:8080/"
        },
        "id": "9BA_OBKHaWGa",
        "outputId": "9046f8af-dbb7-45a9-b1d3-32ea955b4f58"
      },
      "execution_count": null,
      "outputs": [
        {
          "output_type": "execute_result",
          "data": {
            "text/plain": [
              "(tensor([[ 1.,  2.,  3.,  4.,  5.,  6.],\n",
              "         [ 7.,  8.,  9., 10., 11., 12.]]),\n",
              " torch.Size([2, 6]))"
            ]
          },
          "metadata": {},
          "execution_count": 69
        }
      ]
    },
    {
      "cell_type": "code",
      "source": [
        "x_reshaped1 = x.reshape(6, 2)\n",
        "x_reshaped1, x_reshaped1.shape"
      ],
      "metadata": {
        "colab": {
          "base_uri": "https://localhost:8080/"
        },
        "id": "KkcWTqPsaW-a",
        "outputId": "3c4d79a2-464a-4634-93ac-03b828012b89"
      },
      "execution_count": null,
      "outputs": [
        {
          "output_type": "execute_result",
          "data": {
            "text/plain": [
              "(tensor([[ 1.,  2.],\n",
              "         [ 3.,  4.],\n",
              "         [ 5.,  6.],\n",
              "         [ 7.,  8.],\n",
              "         [ 9., 10.],\n",
              "         [11., 12.]]),\n",
              " torch.Size([6, 2]))"
            ]
          },
          "metadata": {},
          "execution_count": 70
        }
      ]
    },
    {
      "cell_type": "code",
      "source": [
        "# Change the view\n",
        "z = x.view(1, 12)\n",
        "z, z.shape"
      ],
      "metadata": {
        "colab": {
          "base_uri": "https://localhost:8080/"
        },
        "id": "T45pxa1OaXiO",
        "outputId": "9db4727b-97f5-4c1e-f005-f3fb385450b9"
      },
      "execution_count": null,
      "outputs": [
        {
          "output_type": "execute_result",
          "data": {
            "text/plain": [
              "(tensor([[ 1.,  2.,  3.,  4.,  5.,  6.,  7.,  8.,  9., 10., 11., 12.]]),\n",
              " torch.Size([1, 12]))"
            ]
          },
          "metadata": {},
          "execution_count": 71
        }
      ]
    },
    {
      "cell_type": "code",
      "source": [
        "# Changing z changes x (because a view of a tensor shares the same memory as the original tensor)\n",
        "\n",
        "z[:, 0] = 5\n",
        "z, x"
      ],
      "metadata": {
        "colab": {
          "base_uri": "https://localhost:8080/"
        },
        "id": "lwH7PzFyaZG1",
        "outputId": "972a82d9-d859-45c2-d973-07d1e54e1953"
      },
      "execution_count": null,
      "outputs": [
        {
          "output_type": "execute_result",
          "data": {
            "text/plain": [
              "(tensor([[ 5.,  2.,  3.,  4.,  5.,  6.,  7.,  8.,  9., 10., 11., 12.]]),\n",
              " tensor([ 5.,  2.,  3.,  4.,  5.,  6.,  7.,  8.,  9., 10., 11., 12.]))"
            ]
          },
          "metadata": {},
          "execution_count": 72
        }
      ]
    },
    {
      "cell_type": "code",
      "source": [
        "z[:,5] = 10\n",
        "z, z.shape, x, x.shape"
      ],
      "metadata": {
        "colab": {
          "base_uri": "https://localhost:8080/"
        },
        "id": "2zFK2SwmaZQN",
        "outputId": "2ad07ab2-6f09-4d42-b650-9a8c4299a002"
      },
      "execution_count": null,
      "outputs": [
        {
          "output_type": "execute_result",
          "data": {
            "text/plain": [
              "(tensor([[ 5.,  2.,  3.,  4.,  5., 10.,  7.,  8.,  9., 10., 11., 12.]]),\n",
              " torch.Size([1, 12]),\n",
              " tensor([ 5.,  2.,  3.,  4.,  5., 10.,  7.,  8.,  9., 10., 11., 12.]),\n",
              " torch.Size([12]))"
            ]
          },
          "metadata": {},
          "execution_count": 73
        }
      ]
    },
    {
      "cell_type": "code",
      "source": [
        "# Stack tensors on top of each other\n",
        "x_stacked = torch.stack([x, x, x, x])\n",
        "x_stacked"
      ],
      "metadata": {
        "colab": {
          "base_uri": "https://localhost:8080/"
        },
        "id": "LWbHnN4raZTR",
        "outputId": "e5d50e02-0de3-4929-d336-e2a2a9c8ef88"
      },
      "execution_count": null,
      "outputs": [
        {
          "output_type": "execute_result",
          "data": {
            "text/plain": [
              "tensor([[ 5.,  2.,  3.,  4.,  5., 10.,  7.,  8.,  9., 10., 11., 12.],\n",
              "        [ 5.,  2.,  3.,  4.,  5., 10.,  7.,  8.,  9., 10., 11., 12.],\n",
              "        [ 5.,  2.,  3.,  4.,  5., 10.,  7.,  8.,  9., 10., 11., 12.],\n",
              "        [ 5.,  2.,  3.,  4.,  5., 10.,  7.,  8.,  9., 10., 11., 12.]])"
            ]
          },
          "metadata": {},
          "execution_count": 74
        }
      ]
    },
    {
      "cell_type": "code",
      "source": [
        "torch.stack([z, z, z, z, z, z, z])"
      ],
      "metadata": {
        "colab": {
          "base_uri": "https://localhost:8080/"
        },
        "id": "EBhvc6DhMqdd",
        "outputId": "5dc58531-5d8b-46bc-c858-6497736fa0e3"
      },
      "execution_count": null,
      "outputs": [
        {
          "output_type": "execute_result",
          "data": {
            "text/plain": [
              "tensor([[[ 5.,  2.,  3.,  4.,  5., 10.,  7.,  8.,  9., 10., 11., 12.]],\n",
              "\n",
              "        [[ 5.,  2.,  3.,  4.,  5., 10.,  7.,  8.,  9., 10., 11., 12.]],\n",
              "\n",
              "        [[ 5.,  2.,  3.,  4.,  5., 10.,  7.,  8.,  9., 10., 11., 12.]],\n",
              "\n",
              "        [[ 5.,  2.,  3.,  4.,  5., 10.,  7.,  8.,  9., 10., 11., 12.]],\n",
              "\n",
              "        [[ 5.,  2.,  3.,  4.,  5., 10.,  7.,  8.,  9., 10., 11., 12.]],\n",
              "\n",
              "        [[ 5.,  2.,  3.,  4.,  5., 10.,  7.,  8.,  9., 10., 11., 12.]],\n",
              "\n",
              "        [[ 5.,  2.,  3.,  4.,  5., 10.,  7.,  8.,  9., 10., 11., 12.]]])"
            ]
          },
          "metadata": {},
          "execution_count": 75
        }
      ]
    },
    {
      "cell_type": "code",
      "source": [
        "# torch.squeeze() - removes all single dimensions from a target tensor\n",
        "\n",
        "# Creating a tensor\n",
        "import torch\n",
        "x = torch.arange(1., 13.)\n",
        "\n",
        "x, x.shape"
      ],
      "metadata": {
        "colab": {
          "base_uri": "https://localhost:8080/"
        },
        "id": "ftxPAK9wMqjq",
        "outputId": "68a4c0ee-18cd-4bbe-eaa7-7582acf2a447"
      },
      "execution_count": null,
      "outputs": [
        {
          "output_type": "execute_result",
          "data": {
            "text/plain": [
              "(tensor([ 1.,  2.,  3.,  4.,  5.,  6.,  7.,  8.,  9., 10., 11., 12.]),\n",
              " torch.Size([12]))"
            ]
          },
          "metadata": {},
          "execution_count": 76
        }
      ]
    },
    {
      "cell_type": "code",
      "source": [
        "torch.squeeze(x)"
      ],
      "metadata": {
        "colab": {
          "base_uri": "https://localhost:8080/"
        },
        "id": "ckbLaxy8MqrA",
        "outputId": "04108ad3-d2f9-4490-c380-37935b6e2446"
      },
      "execution_count": null,
      "outputs": [
        {
          "output_type": "execute_result",
          "data": {
            "text/plain": [
              "tensor([ 1.,  2.,  3.,  4.,  5.,  6.,  7.,  8.,  9., 10., 11., 12.])"
            ]
          },
          "metadata": {},
          "execution_count": 77
        }
      ]
    },
    {
      "cell_type": "code",
      "source": [
        "z = x.reshape(2, 6)\n",
        "z, z.shape"
      ],
      "metadata": {
        "colab": {
          "base_uri": "https://localhost:8080/"
        },
        "id": "DjV3S3KPMqtE",
        "outputId": "8337bf99-e1c7-4d24-9465-eadb42d3e058"
      },
      "execution_count": null,
      "outputs": [
        {
          "output_type": "execute_result",
          "data": {
            "text/plain": [
              "(tensor([[ 1.,  2.,  3.,  4.,  5.,  6.],\n",
              "         [ 7.,  8.,  9., 10., 11., 12.]]),\n",
              " torch.Size([2, 6]))"
            ]
          },
          "metadata": {},
          "execution_count": 78
        }
      ]
    },
    {
      "cell_type": "code",
      "source": [
        "x = torch.zeros(2, 12)\n",
        "x"
      ],
      "metadata": {
        "colab": {
          "base_uri": "https://localhost:8080/"
        },
        "id": "NenKK_uFMqu0",
        "outputId": "38ac07a4-bf88-4708-a70f-f25ffb4e282e"
      },
      "execution_count": null,
      "outputs": [
        {
          "output_type": "execute_result",
          "data": {
            "text/plain": [
              "tensor([[0., 0., 0., 0., 0., 0., 0., 0., 0., 0., 0., 0.],\n",
              "        [0., 0., 0., 0., 0., 0., 0., 0., 0., 0., 0., 0.]])"
            ]
          },
          "metadata": {},
          "execution_count": 79
        }
      ]
    },
    {
      "cell_type": "code",
      "source": [
        "x = torch.zeros(2, 1, 2, 1, 2)\n",
        "x, x.size()"
      ],
      "metadata": {
        "colab": {
          "base_uri": "https://localhost:8080/"
        },
        "id": "s0s9qMpTaZVv",
        "outputId": "9e88d210-6d18-4d14-82ea-1f99393c000a"
      },
      "execution_count": null,
      "outputs": [
        {
          "output_type": "execute_result",
          "data": {
            "text/plain": [
              "(tensor([[[[[0., 0.]],\n",
              " \n",
              "           [[0., 0.]]]],\n",
              " \n",
              " \n",
              " \n",
              "         [[[[0., 0.]],\n",
              " \n",
              "           [[0., 0.]]]]]),\n",
              " torch.Size([2, 1, 2, 1, 2]))"
            ]
          },
          "metadata": {},
          "execution_count": 80
        }
      ]
    },
    {
      "cell_type": "code",
      "source": [
        "y = torch.squeeze(x)\n",
        "y.size()"
      ],
      "metadata": {
        "colab": {
          "base_uri": "https://localhost:8080/"
        },
        "id": "MhdbMlDPNviO",
        "outputId": "614b9938-0ba4-4432-9417-dc86e2b4cb07"
      },
      "execution_count": null,
      "outputs": [
        {
          "output_type": "execute_result",
          "data": {
            "text/plain": [
              "torch.Size([2, 2, 2])"
            ]
          },
          "metadata": {},
          "execution_count": 81
        }
      ]
    },
    {
      "cell_type": "code",
      "source": [
        "y.shape"
      ],
      "metadata": {
        "colab": {
          "base_uri": "https://localhost:8080/"
        },
        "id": "nOyQw0T_Nvlj",
        "outputId": "fb4490d7-7764-47f8-a016-25600497844f"
      },
      "execution_count": null,
      "outputs": [
        {
          "output_type": "execute_result",
          "data": {
            "text/plain": [
              "torch.Size([2, 2, 2])"
            ]
          },
          "metadata": {},
          "execution_count": 82
        }
      ]
    },
    {
      "cell_type": "markdown",
      "source": [
        "#### shape and size() method work in a similar fation displaying the dimension size of a tensor"
      ],
      "metadata": {
        "id": "0pFgplJ3NvuU"
      }
    },
    {
      "cell_type": "markdown",
      "source": [
        "# Returning a tensor to original dimensions"
      ],
      "metadata": {
        "id": "dALeJ_4uNvwt"
      }
    },
    {
      "cell_type": "code",
      "source": [
        "y = torch.squeeze(x, 0)\n",
        "print(f\"Printing squeezed tensor using size() method: {y.size()}\\n\")\n",
        "print(f\"Printing the squeezed tensor dimension using shape approach: {y.shape}\")"
      ],
      "metadata": {
        "colab": {
          "base_uri": "https://localhost:8080/"
        },
        "id": "MfjYgsUJNvyW",
        "outputId": "5c317f0a-6013-4e09-d2c0-00ef33c4609a"
      },
      "execution_count": null,
      "outputs": [
        {
          "output_type": "stream",
          "name": "stdout",
          "text": [
            "Printing squeezed tensor using size() method: torch.Size([2, 1, 2, 1, 2])\n",
            "\n",
            "Printing the squeezed tensor dimension using shape approach: torch.Size([2, 1, 2, 1, 2])\n"
          ]
        }
      ]
    },
    {
      "cell_type": "code",
      "source": [
        "x\n"
      ],
      "metadata": {
        "colab": {
          "base_uri": "https://localhost:8080/"
        },
        "id": "ITUSA_hlNv0N",
        "outputId": "ea381cad-8312-4583-bad1-7b7dbbec7e65"
      },
      "execution_count": null,
      "outputs": [
        {
          "output_type": "execute_result",
          "data": {
            "text/plain": [
              "tensor([[[[[0., 0.]],\n",
              "\n",
              "          [[0., 0.]]]],\n",
              "\n",
              "\n",
              "\n",
              "        [[[[0., 0.]],\n",
              "\n",
              "          [[0., 0.]]]]])"
            ]
          },
          "metadata": {},
          "execution_count": 84
        }
      ]
    },
    {
      "cell_type": "code",
      "source": [
        "y = torch.squeeze(x, 1)\n",
        "y.size()"
      ],
      "metadata": {
        "colab": {
          "base_uri": "https://localhost:8080/"
        },
        "id": "MlFqcW27Nv21",
        "outputId": "16ef0396-3baf-436a-e556-2fdbf5c25271"
      },
      "execution_count": null,
      "outputs": [
        {
          "output_type": "execute_result",
          "data": {
            "text/plain": [
              "torch.Size([2, 2, 1, 2])"
            ]
          },
          "metadata": {},
          "execution_count": 85
        }
      ]
    },
    {
      "cell_type": "code",
      "source": [
        "y = torch.squeeze(x, (1, 2, 3))\n",
        "y.size()"
      ],
      "metadata": {
        "colab": {
          "base_uri": "https://localhost:8080/"
        },
        "id": "6vJpMhZaNv42",
        "outputId": "8e8ab34d-5a07-4ad4-c05a-b92cbb2324de"
      },
      "execution_count": null,
      "outputs": [
        {
          "output_type": "execute_result",
          "data": {
            "text/plain": [
              "torch.Size([2, 2, 2])"
            ]
          },
          "metadata": {},
          "execution_count": 86
        }
      ]
    },
    {
      "cell_type": "code",
      "source": [
        "y"
      ],
      "metadata": {
        "colab": {
          "base_uri": "https://localhost:8080/"
        },
        "id": "wIiFRRAxNv9l",
        "outputId": "498dd903-fe94-48ea-fb1c-374e2456d60b"
      },
      "execution_count": null,
      "outputs": [
        {
          "output_type": "execute_result",
          "data": {
            "text/plain": [
              "tensor([[[0., 0.],\n",
              "         [0., 0.]],\n",
              "\n",
              "        [[0., 0.],\n",
              "         [0., 0.]]])"
            ]
          },
          "metadata": {},
          "execution_count": 87
        }
      ]
    },
    {
      "cell_type": "code",
      "source": [
        "import torch\n",
        "x = torch.arange(1., 10.)\n",
        "x, x.shape"
      ],
      "metadata": {
        "colab": {
          "base_uri": "https://localhost:8080/"
        },
        "id": "iNrc6AqhNv_z",
        "outputId": "9869fb24-cb54-465e-f5f0-cbdb75e3e26c"
      },
      "execution_count": null,
      "outputs": [
        {
          "output_type": "execute_result",
          "data": {
            "text/plain": [
              "(tensor([1., 2., 3., 4., 5., 6., 7., 8., 9.]), torch.Size([9]))"
            ]
          },
          "metadata": {},
          "execution_count": 88
        }
      ]
    },
    {
      "cell_type": "code",
      "source": [
        "x_reshaped = x.reshape(1, 9)\n",
        "x_reshaped, x_reshaped.shape"
      ],
      "metadata": {
        "colab": {
          "base_uri": "https://localhost:8080/"
        },
        "id": "A8rswu7iNwB0",
        "outputId": "3179e5f1-66a2-4b10-ac1f-55973af581b2"
      },
      "execution_count": null,
      "outputs": [
        {
          "output_type": "execute_result",
          "data": {
            "text/plain": [
              "(tensor([[1., 2., 3., 4., 5., 6., 7., 8., 9.]]), torch.Size([1, 9]))"
            ]
          },
          "metadata": {},
          "execution_count": 89
        }
      ]
    },
    {
      "cell_type": "code",
      "source": [
        "# torch.squeeze() - removes all single dimensions from a target tensor.\n",
        "\n",
        "print(f\"Previous tensor: {x_reshaped}\")\n",
        "print(f\"Previous shape: {x_reshaped.shape}\")\n",
        "\n",
        "\n",
        "# Remove extra dimensions from x_reshaped\n",
        "x_squeezed = x_reshaped.squeeze()\n",
        "print(f\"\\nNew tensor: {x_squeezed}\")\n",
        "print(f\"New shape: {x_squeezed.shape}\")"
      ],
      "metadata": {
        "colab": {
          "base_uri": "https://localhost:8080/"
        },
        "id": "pUwgAkdAQTsJ",
        "outputId": "92b600b4-7812-4564-ff50-205d4976c85a"
      },
      "execution_count": null,
      "outputs": [
        {
          "output_type": "stream",
          "name": "stdout",
          "text": [
            "Previous tensor: tensor([[1., 2., 3., 4., 5., 6., 7., 8., 9.]])\n",
            "Previous shape: torch.Size([1, 9])\n",
            "\n",
            "New tensor: tensor([1., 2., 3., 4., 5., 6., 7., 8., 9.])\n",
            "New shape: torch.Size([9])\n"
          ]
        }
      ]
    },
    {
      "cell_type": "markdown",
      "source": [
        "## torch.permute - rearranges the dimensions of a target tensor in a specified order"
      ],
      "metadata": {
        "id": "ZLoZE-7HQT1U"
      }
    },
    {
      "cell_type": "code",
      "source": [
        "x_original = torch.rand(size=(224, 224, 3)) # [height, width, color_channels]\n",
        "print(x_original)"
      ],
      "metadata": {
        "colab": {
          "base_uri": "https://localhost:8080/"
        },
        "id": "FU-sVWWjQT5Y",
        "outputId": "61ab1a11-ec94-4678-8649-12d250020436"
      },
      "execution_count": null,
      "outputs": [
        {
          "output_type": "stream",
          "name": "stdout",
          "text": [
            "tensor([[[7.9637e-01, 7.6920e-01, 5.6365e-01],\n",
            "         [1.1120e-01, 2.3287e-01, 6.0405e-01],\n",
            "         [7.0256e-01, 8.7264e-01, 4.0925e-01],\n",
            "         ...,\n",
            "         [8.2857e-01, 8.4893e-01, 1.9614e-01],\n",
            "         [9.6073e-01, 8.9982e-01, 9.7591e-01],\n",
            "         [8.1705e-01, 8.8987e-01, 7.3322e-01]],\n",
            "\n",
            "        [[6.6972e-01, 1.5532e-01, 4.0700e-01],\n",
            "         [1.0366e-01, 1.1499e-01, 3.4785e-01],\n",
            "         [3.4701e-01, 8.0699e-01, 4.4370e-01],\n",
            "         ...,\n",
            "         [4.7263e-01, 9.2271e-02, 4.3040e-01],\n",
            "         [8.9201e-02, 5.1670e-01, 7.2923e-01],\n",
            "         [8.5886e-01, 6.6796e-01, 2.3455e-01]],\n",
            "\n",
            "        [[1.4822e-01, 4.5447e-01, 6.6416e-01],\n",
            "         [1.9792e-01, 5.8292e-01, 3.6714e-02],\n",
            "         [4.5300e-01, 9.5694e-01, 5.2037e-01],\n",
            "         ...,\n",
            "         [1.4987e-01, 4.4645e-01, 2.0837e-02],\n",
            "         [8.7017e-01, 4.4500e-01, 9.0045e-01],\n",
            "         [3.7596e-01, 8.8139e-01, 1.1333e-01]],\n",
            "\n",
            "        ...,\n",
            "\n",
            "        [[7.8028e-01, 1.7294e-01, 6.5029e-04],\n",
            "         [8.3568e-01, 2.5305e-01, 6.7959e-02],\n",
            "         [7.5254e-01, 9.2995e-01, 9.4448e-01],\n",
            "         ...,\n",
            "         [6.1760e-01, 3.8245e-01, 8.3128e-01],\n",
            "         [2.2049e-01, 9.7150e-01, 1.1416e-01],\n",
            "         [5.0641e-01, 7.8227e-01, 6.9261e-02]],\n",
            "\n",
            "        [[7.6081e-01, 5.7566e-01, 5.8478e-01],\n",
            "         [3.7834e-01, 9.6158e-01, 1.7793e-01],\n",
            "         [1.3160e-01, 9.2235e-01, 1.8212e-01],\n",
            "         ...,\n",
            "         [9.0941e-01, 3.0871e-01, 4.8255e-01],\n",
            "         [1.5100e-01, 7.8542e-01, 1.2727e-01],\n",
            "         [3.6164e-01, 6.6869e-01, 5.5054e-01]],\n",
            "\n",
            "        [[6.6028e-03, 9.7331e-01, 1.6089e-01],\n",
            "         [9.2525e-01, 1.5311e-01, 1.4750e-01],\n",
            "         [3.6618e-01, 9.5427e-01, 9.1426e-01],\n",
            "         ...,\n",
            "         [2.3751e-01, 6.6936e-01, 7.4458e-01],\n",
            "         [9.2867e-01, 7.7702e-01, 6.0185e-01],\n",
            "         [7.4050e-01, 6.1324e-01, 2.0953e-01]]])\n"
          ]
        }
      ]
    },
    {
      "cell_type": "markdown",
      "source": [
        "# Permute the original tensor to rearrange the axis (or dim) order."
      ],
      "metadata": {
        "id": "uH2jjbbWQUIE"
      }
    },
    {
      "cell_type": "code",
      "source": [
        "x_permuted = x_original.permute(2, 0, 1) # shifts axis 0 -> 1, 1 -> 2, 2 ->0\n",
        "print(x_permuted)\n",
        "x_permuted.shape"
      ],
      "metadata": {
        "colab": {
          "base_uri": "https://localhost:8080/"
        },
        "id": "7yMQv4asNwEI",
        "outputId": "72ccc187-3f14-4c89-dd53-357723595911"
      },
      "execution_count": null,
      "outputs": [
        {
          "output_type": "stream",
          "name": "stdout",
          "text": [
            "tensor([[[7.9637e-01, 1.1120e-01, 7.0256e-01,  ..., 8.2857e-01,\n",
            "          9.6073e-01, 8.1705e-01],\n",
            "         [6.6972e-01, 1.0366e-01, 3.4701e-01,  ..., 4.7263e-01,\n",
            "          8.9201e-02, 8.5886e-01],\n",
            "         [1.4822e-01, 1.9792e-01, 4.5300e-01,  ..., 1.4987e-01,\n",
            "          8.7017e-01, 3.7596e-01],\n",
            "         ...,\n",
            "         [7.8028e-01, 8.3568e-01, 7.5254e-01,  ..., 6.1760e-01,\n",
            "          2.2049e-01, 5.0641e-01],\n",
            "         [7.6081e-01, 3.7834e-01, 1.3160e-01,  ..., 9.0941e-01,\n",
            "          1.5100e-01, 3.6164e-01],\n",
            "         [6.6028e-03, 9.2525e-01, 3.6618e-01,  ..., 2.3751e-01,\n",
            "          9.2867e-01, 7.4050e-01]],\n",
            "\n",
            "        [[7.6920e-01, 2.3287e-01, 8.7264e-01,  ..., 8.4893e-01,\n",
            "          8.9982e-01, 8.8987e-01],\n",
            "         [1.5532e-01, 1.1499e-01, 8.0699e-01,  ..., 9.2271e-02,\n",
            "          5.1670e-01, 6.6796e-01],\n",
            "         [4.5447e-01, 5.8292e-01, 9.5694e-01,  ..., 4.4645e-01,\n",
            "          4.4500e-01, 8.8139e-01],\n",
            "         ...,\n",
            "         [1.7294e-01, 2.5305e-01, 9.2995e-01,  ..., 3.8245e-01,\n",
            "          9.7150e-01, 7.8227e-01],\n",
            "         [5.7566e-01, 9.6158e-01, 9.2235e-01,  ..., 3.0871e-01,\n",
            "          7.8542e-01, 6.6869e-01],\n",
            "         [9.7331e-01, 1.5311e-01, 9.5427e-01,  ..., 6.6936e-01,\n",
            "          7.7702e-01, 6.1324e-01]],\n",
            "\n",
            "        [[5.6365e-01, 6.0405e-01, 4.0925e-01,  ..., 1.9614e-01,\n",
            "          9.7591e-01, 7.3322e-01],\n",
            "         [4.0700e-01, 3.4785e-01, 4.4370e-01,  ..., 4.3040e-01,\n",
            "          7.2923e-01, 2.3455e-01],\n",
            "         [6.6416e-01, 3.6714e-02, 5.2037e-01,  ..., 2.0837e-02,\n",
            "          9.0045e-01, 1.1333e-01],\n",
            "         ...,\n",
            "         [6.5029e-04, 6.7959e-02, 9.4448e-01,  ..., 8.3128e-01,\n",
            "          1.1416e-01, 6.9261e-02],\n",
            "         [5.8478e-01, 1.7793e-01, 1.8212e-01,  ..., 4.8255e-01,\n",
            "          1.2727e-01, 5.5054e-01],\n",
            "         [1.6089e-01, 1.4750e-01, 9.1426e-01,  ..., 7.4458e-01,\n",
            "          6.0185e-01, 2.0953e-01]]])\n"
          ]
        },
        {
          "output_type": "execute_result",
          "data": {
            "text/plain": [
              "torch.Size([3, 224, 224])"
            ]
          },
          "metadata": {},
          "execution_count": 92
        }
      ]
    },
    {
      "cell_type": "code",
      "source": [
        "y_original = torch.rand(size=(52, 52, 3))\n",
        "print(y_original)\n",
        "print(y_original.shape)"
      ],
      "metadata": {
        "colab": {
          "base_uri": "https://localhost:8080/"
        },
        "id": "SxOw_RFpNwGc",
        "outputId": "3e3dbc2d-71c3-4f3c-abfb-25a35249d561"
      },
      "execution_count": null,
      "outputs": [
        {
          "output_type": "stream",
          "name": "stdout",
          "text": [
            "tensor([[[1.3439e-01, 6.5457e-01, 4.2285e-03],\n",
            "         [6.9216e-01, 1.3614e-01, 4.0542e-01],\n",
            "         [4.5684e-01, 5.8821e-02, 6.2725e-01],\n",
            "         ...,\n",
            "         [3.9072e-01, 1.2030e-01, 9.7182e-01],\n",
            "         [2.0480e-01, 1.5979e-01, 9.3318e-01],\n",
            "         [1.1993e-01, 4.9866e-01, 6.2599e-01]],\n",
            "\n",
            "        [[8.8100e-02, 8.0188e-02, 3.1293e-01],\n",
            "         [4.9567e-01, 4.0629e-01, 6.7190e-01],\n",
            "         [2.4037e-02, 8.4920e-01, 6.6019e-01],\n",
            "         ...,\n",
            "         [2.2176e-01, 7.8265e-01, 7.0461e-01],\n",
            "         [7.3520e-01, 9.5962e-02, 5.2262e-01],\n",
            "         [5.9840e-01, 3.5172e-02, 5.3889e-01]],\n",
            "\n",
            "        [[1.3789e-01, 1.5508e-01, 1.6103e-01],\n",
            "         [8.1785e-01, 2.4592e-01, 3.3083e-01],\n",
            "         [8.4809e-01, 1.9988e-01, 1.6837e-02],\n",
            "         ...,\n",
            "         [7.0846e-01, 1.3861e-01, 4.3652e-01],\n",
            "         [1.6200e-01, 5.7746e-01, 6.5318e-01],\n",
            "         [4.4282e-01, 1.8886e-02, 1.4177e-01]],\n",
            "\n",
            "        ...,\n",
            "\n",
            "        [[9.7068e-01, 9.8565e-01, 1.2726e-04],\n",
            "         [4.0504e-01, 4.5180e-01, 9.3861e-01],\n",
            "         [2.3754e-01, 6.2106e-01, 4.9380e-01],\n",
            "         ...,\n",
            "         [1.8941e-01, 3.0771e-01, 8.3401e-01],\n",
            "         [3.9845e-01, 2.3134e-01, 1.7104e-01],\n",
            "         [9.4334e-01, 5.7011e-01, 3.3260e-01]],\n",
            "\n",
            "        [[5.4939e-01, 7.2917e-01, 6.2058e-02],\n",
            "         [2.4463e-01, 4.1000e-01, 6.8586e-01],\n",
            "         [1.9343e-01, 5.0005e-01, 2.9511e-01],\n",
            "         ...,\n",
            "         [8.9657e-01, 1.8850e-01, 7.2172e-01],\n",
            "         [2.4349e-01, 7.6630e-01, 9.7393e-02],\n",
            "         [7.2196e-01, 2.9801e-01, 1.0332e-01]],\n",
            "\n",
            "        [[9.9898e-01, 6.7963e-02, 7.6062e-01],\n",
            "         [6.7657e-01, 3.1328e-01, 1.9557e-01],\n",
            "         [1.0162e-01, 6.4798e-01, 7.7813e-01],\n",
            "         ...,\n",
            "         [7.3010e-01, 6.5708e-01, 7.3976e-01],\n",
            "         [7.6075e-01, 4.9596e-01, 7.8772e-01],\n",
            "         [3.8200e-01, 3.7751e-02, 2.0865e-01]]])\n",
            "torch.Size([52, 52, 3])\n"
          ]
        }
      ]
    },
    {
      "cell_type": "code",
      "source": [
        "y_permuted = y_original.permute(2, 1, 0)\n",
        "print(y_permuted)\n",
        "print(y_permuted.shape)"
      ],
      "metadata": {
        "colab": {
          "base_uri": "https://localhost:8080/"
        },
        "id": "btKedNY9NwL1",
        "outputId": "f95265ec-6bd0-4ea9-f7dc-42eb3173fce5"
      },
      "execution_count": null,
      "outputs": [
        {
          "output_type": "stream",
          "name": "stdout",
          "text": [
            "tensor([[[1.3439e-01, 8.8100e-02, 1.3789e-01,  ..., 9.7068e-01,\n",
            "          5.4939e-01, 9.9898e-01],\n",
            "         [6.9216e-01, 4.9567e-01, 8.1785e-01,  ..., 4.0504e-01,\n",
            "          2.4463e-01, 6.7657e-01],\n",
            "         [4.5684e-01, 2.4037e-02, 8.4809e-01,  ..., 2.3754e-01,\n",
            "          1.9343e-01, 1.0162e-01],\n",
            "         ...,\n",
            "         [3.9072e-01, 2.2176e-01, 7.0846e-01,  ..., 1.8941e-01,\n",
            "          8.9657e-01, 7.3010e-01],\n",
            "         [2.0480e-01, 7.3520e-01, 1.6200e-01,  ..., 3.9845e-01,\n",
            "          2.4349e-01, 7.6075e-01],\n",
            "         [1.1993e-01, 5.9840e-01, 4.4282e-01,  ..., 9.4334e-01,\n",
            "          7.2196e-01, 3.8200e-01]],\n",
            "\n",
            "        [[6.5457e-01, 8.0188e-02, 1.5508e-01,  ..., 9.8565e-01,\n",
            "          7.2917e-01, 6.7963e-02],\n",
            "         [1.3614e-01, 4.0629e-01, 2.4592e-01,  ..., 4.5180e-01,\n",
            "          4.1000e-01, 3.1328e-01],\n",
            "         [5.8821e-02, 8.4920e-01, 1.9988e-01,  ..., 6.2106e-01,\n",
            "          5.0005e-01, 6.4798e-01],\n",
            "         ...,\n",
            "         [1.2030e-01, 7.8265e-01, 1.3861e-01,  ..., 3.0771e-01,\n",
            "          1.8850e-01, 6.5708e-01],\n",
            "         [1.5979e-01, 9.5962e-02, 5.7746e-01,  ..., 2.3134e-01,\n",
            "          7.6630e-01, 4.9596e-01],\n",
            "         [4.9866e-01, 3.5172e-02, 1.8886e-02,  ..., 5.7011e-01,\n",
            "          2.9801e-01, 3.7751e-02]],\n",
            "\n",
            "        [[4.2285e-03, 3.1293e-01, 1.6103e-01,  ..., 1.2726e-04,\n",
            "          6.2058e-02, 7.6062e-01],\n",
            "         [4.0542e-01, 6.7190e-01, 3.3083e-01,  ..., 9.3861e-01,\n",
            "          6.8586e-01, 1.9557e-01],\n",
            "         [6.2725e-01, 6.6019e-01, 1.6837e-02,  ..., 4.9380e-01,\n",
            "          2.9511e-01, 7.7813e-01],\n",
            "         ...,\n",
            "         [9.7182e-01, 7.0461e-01, 4.3652e-01,  ..., 8.3401e-01,\n",
            "          7.2172e-01, 7.3976e-01],\n",
            "         [9.3318e-01, 5.2262e-01, 6.5318e-01,  ..., 1.7104e-01,\n",
            "          9.7393e-02, 7.8772e-01],\n",
            "         [6.2599e-01, 5.3889e-01, 1.4177e-01,  ..., 3.3260e-01,\n",
            "          1.0332e-01, 2.0865e-01]]])\n",
            "torch.Size([3, 52, 52])\n"
          ]
        }
      ]
    },
    {
      "cell_type": "code",
      "source": [
        "x_permuted.size()"
      ],
      "metadata": {
        "colab": {
          "base_uri": "https://localhost:8080/"
        },
        "id": "CGgxLSbhNwN7",
        "outputId": "73b4568a-9f2a-4065-d8d7-2e093986e94a"
      },
      "execution_count": null,
      "outputs": [
        {
          "output_type": "execute_result",
          "data": {
            "text/plain": [
              "torch.Size([3, 224, 224])"
            ]
          },
          "metadata": {},
          "execution_count": 95
        }
      ]
    },
    {
      "cell_type": "code",
      "source": [
        "y_permuted.size()"
      ],
      "metadata": {
        "colab": {
          "base_uri": "https://localhost:8080/"
        },
        "id": "NBeb5rsDS_VF",
        "outputId": "f66833ea-1d01-4010-c75a-d93154ba5015"
      },
      "execution_count": null,
      "outputs": [
        {
          "output_type": "execute_result",
          "data": {
            "text/plain": [
              "torch.Size([3, 52, 52])"
            ]
          },
          "metadata": {},
          "execution_count": 96
        }
      ]
    },
    {
      "cell_type": "code",
      "source": [
        "# summary\n",
        "print(f\"Previous shape: {x_original.shape}\")\n",
        "print(f\"New shape: {x_permuted.shape}\\n\") # [color_channels, height, width]\n",
        "\n",
        "# summary\n",
        "print(f\"Previous shape: {y_original.shape}\")\n",
        "print(f\"New shape: {y_permuted.shape}\") # [color_channels, height, width]"
      ],
      "metadata": {
        "colab": {
          "base_uri": "https://localhost:8080/"
        },
        "id": "JyxYYJJtS_ZT",
        "outputId": "ef7c0783-a80d-4c9d-9bfb-2a33c6f70b19"
      },
      "execution_count": null,
      "outputs": [
        {
          "output_type": "stream",
          "name": "stdout",
          "text": [
            "Previous shape: torch.Size([224, 224, 3])\n",
            "New shape: torch.Size([3, 224, 224])\n",
            "\n",
            "Previous shape: torch.Size([52, 52, 3])\n",
            "New shape: torch.Size([3, 52, 52])\n"
          ]
        }
      ]
    },
    {
      "cell_type": "markdown",
      "source": [
        "# Indexing (selecting data from tensors)\n",
        "\n",
        "* Indexing with PyTorch is a similar to indexing with NumPy"
      ],
      "metadata": {
        "id": "y7GEIsdNS_iP"
      }
    },
    {
      "cell_type": "code",
      "source": [
        "# Creating a tensor\n",
        "import torch\n",
        "x = torch.arange(1, 10)\n",
        "x, x.shape"
      ],
      "metadata": {
        "colab": {
          "base_uri": "https://localhost:8080/"
        },
        "id": "VlbpbISATb45",
        "outputId": "bfda76e9-9341-4e44-dd6b-76e0c03ff801"
      },
      "execution_count": null,
      "outputs": [
        {
          "output_type": "execute_result",
          "data": {
            "text/plain": [
              "(tensor([1, 2, 3, 4, 5, 6, 7, 8, 9]), torch.Size([9]))"
            ]
          },
          "metadata": {},
          "execution_count": 98
        }
      ]
    },
    {
      "cell_type": "code",
      "source": [
        "# Creating a tensor\n",
        "import torch\n",
        "x = torch.arange(1, 10).reshape(1, 3, 3)\n",
        "x, x.shape"
      ],
      "metadata": {
        "colab": {
          "base_uri": "https://localhost:8080/"
        },
        "id": "GIh779ZRTb9W",
        "outputId": "39625bb2-d836-41ab-d3f1-62edcd08fe18"
      },
      "execution_count": null,
      "outputs": [
        {
          "output_type": "execute_result",
          "data": {
            "text/plain": [
              "(tensor([[[1, 2, 3],\n",
              "          [4, 5, 6],\n",
              "          [7, 8, 9]]]),\n",
              " torch.Size([1, 3, 3]))"
            ]
          },
          "metadata": {},
          "execution_count": 99
        }
      ]
    },
    {
      "cell_type": "code",
      "source": [
        "# Indexing on our new tensor\n",
        "\n",
        "x[0]"
      ],
      "metadata": {
        "colab": {
          "base_uri": "https://localhost:8080/"
        },
        "id": "SrkDwlYgTcFY",
        "outputId": "53e1019f-e147-4788-c21e-aa9cbc0bd32b"
      },
      "execution_count": null,
      "outputs": [
        {
          "output_type": "execute_result",
          "data": {
            "text/plain": [
              "tensor([[1, 2, 3],\n",
              "        [4, 5, 6],\n",
              "        [7, 8, 9]])"
            ]
          },
          "metadata": {},
          "execution_count": 100
        }
      ]
    },
    {
      "cell_type": "code",
      "source": [
        "# Selecting 5 from Tensor 'x'\n",
        "x[0, 1, 1]"
      ],
      "metadata": {
        "colab": {
          "base_uri": "https://localhost:8080/"
        },
        "id": "wuxJGeHuTcIH",
        "outputId": "85b86673-292d-4c8d-83a5-03e6be21ee77"
      },
      "execution_count": null,
      "outputs": [
        {
          "output_type": "execute_result",
          "data": {
            "text/plain": [
              "tensor(5)"
            ]
          },
          "metadata": {},
          "execution_count": 101
        }
      ]
    },
    {
      "cell_type": "code",
      "source": [
        "# Selecting 9\n",
        "\n",
        "x[0, 2, 2]"
      ],
      "metadata": {
        "colab": {
          "base_uri": "https://localhost:8080/"
        },
        "id": "HjTiBBS8TcK_",
        "outputId": "bb652505-cc08-4d3a-a8be-fa4d1357c7cc"
      },
      "execution_count": null,
      "outputs": [
        {
          "output_type": "execute_result",
          "data": {
            "text/plain": [
              "tensor(9)"
            ]
          },
          "metadata": {},
          "execution_count": 102
        }
      ]
    },
    {
      "cell_type": "code",
      "source": [
        "# Selecting 6\n",
        "\n",
        "x[0, 1, 2]"
      ],
      "metadata": {
        "colab": {
          "base_uri": "https://localhost:8080/"
        },
        "id": "Ayba6oBUTcP6",
        "outputId": "5ea416ee-327f-4e74-df4d-ec7477418092"
      },
      "execution_count": null,
      "outputs": [
        {
          "output_type": "execute_result",
          "data": {
            "text/plain": [
              "tensor(6)"
            ]
          },
          "metadata": {},
          "execution_count": 103
        }
      ]
    },
    {
      "cell_type": "code",
      "source": [
        "x[:,0]"
      ],
      "metadata": {
        "colab": {
          "base_uri": "https://localhost:8080/"
        },
        "id": "s8jngFQ4Tcdp",
        "outputId": "e240d95f-2145-4431-ba4a-fbe7ae835ce6"
      },
      "execution_count": null,
      "outputs": [
        {
          "output_type": "execute_result",
          "data": {
            "text/plain": [
              "tensor([[1, 2, 3]])"
            ]
          },
          "metadata": {},
          "execution_count": 104
        }
      ]
    },
    {
      "cell_type": "code",
      "source": [
        "x[:1,0]"
      ],
      "metadata": {
        "colab": {
          "base_uri": "https://localhost:8080/"
        },
        "id": "jybtCpRrS_ky",
        "outputId": "9ea2556e-1460-4697-ca56-d3a7f7da8512"
      },
      "execution_count": null,
      "outputs": [
        {
          "output_type": "execute_result",
          "data": {
            "text/plain": [
              "tensor([[1, 2, 3]])"
            ]
          },
          "metadata": {},
          "execution_count": 105
        }
      ]
    },
    {
      "cell_type": "code",
      "source": [
        "x[:2, 1]"
      ],
      "metadata": {
        "colab": {
          "base_uri": "https://localhost:8080/"
        },
        "id": "ynTYTrRhS_ne",
        "outputId": "b3dba7a6-af81-4099-d433-09f84274192e"
      },
      "execution_count": null,
      "outputs": [
        {
          "output_type": "execute_result",
          "data": {
            "text/plain": [
              "tensor([[4, 5, 6]])"
            ]
          },
          "metadata": {},
          "execution_count": 106
        }
      ]
    },
    {
      "cell_type": "code",
      "source": [
        "x[:3, 2]"
      ],
      "metadata": {
        "colab": {
          "base_uri": "https://localhost:8080/"
        },
        "id": "1LL1XBOKV3C1",
        "outputId": "7318c40f-f896-4f3f-f9d0-90e0e23cdf7a"
      },
      "execution_count": null,
      "outputs": [
        {
          "output_type": "execute_result",
          "data": {
            "text/plain": [
              "tensor([[7, 8, 9]])"
            ]
          },
          "metadata": {},
          "execution_count": 107
        }
      ]
    },
    {
      "cell_type": "code",
      "source": [
        "x[:,2]"
      ],
      "metadata": {
        "colab": {
          "base_uri": "https://localhost:8080/"
        },
        "id": "ZukqWKSvV3Pq",
        "outputId": "b999246c-ff23-4e30-f843-ef7461e0370a"
      },
      "execution_count": null,
      "outputs": [
        {
          "output_type": "execute_result",
          "data": {
            "text/plain": [
              "tensor([[7, 8, 9]])"
            ]
          },
          "metadata": {},
          "execution_count": 108
        }
      ]
    },
    {
      "cell_type": "code",
      "source": [
        "x"
      ],
      "metadata": {
        "colab": {
          "base_uri": "https://localhost:8080/"
        },
        "id": "vBoT17YjWf3t",
        "outputId": "407eb3e2-e0a5-472d-a6ff-e17392c6ba5f"
      },
      "execution_count": null,
      "outputs": [
        {
          "output_type": "execute_result",
          "data": {
            "text/plain": [
              "tensor([[[1, 2, 3],\n",
              "         [4, 5, 6],\n",
              "         [7, 8, 9]]])"
            ]
          },
          "metadata": {},
          "execution_count": 109
        }
      ]
    },
    {
      "cell_type": "markdown",
      "source": [
        "# Summary"
      ],
      "metadata": {
        "id": "bme6O2NvV3Ua"
      }
    },
    {
      "cell_type": "code",
      "source": [
        "# Print tensor and its shape\n",
        "print(\"Tensor x:\\n\", x)\n",
        "print(\"Shape of tensor x:\", x.shape)\n",
        "\n",
        "# Iterate over each element in the tensor\n",
        "# Since it's a 3-dimensional tensor but only one in the first dimension, iterate over the second and third dimensions\n",
        "for i in range(x.shape[1]):  # x.shape[1] is the size of the second dimension (rows)\n",
        "    for j in range(x.shape[2]):  # x.shape[2] is the size of the third dimension (columns)\n",
        "        # Print the index (i, j) and the element at that index\n",
        "        print(f'Element at index [{0}, {i}, {j}] = {x[0, i, j]}')"
      ],
      "metadata": {
        "colab": {
          "base_uri": "https://localhost:8080/"
        },
        "id": "ItFDgfDwV3X2",
        "outputId": "663025a5-02d6-4213-bdea-6357146b7ced"
      },
      "execution_count": null,
      "outputs": [
        {
          "output_type": "stream",
          "name": "stdout",
          "text": [
            "Tensor x:\n",
            " tensor([[[1, 2, 3],\n",
            "         [4, 5, 6],\n",
            "         [7, 8, 9]]])\n",
            "Shape of tensor x: torch.Size([1, 3, 3])\n",
            "Element at index [0, 0, 0] = 1\n",
            "Element at index [0, 0, 1] = 2\n",
            "Element at index [0, 0, 2] = 3\n",
            "Element at index [0, 1, 0] = 4\n",
            "Element at index [0, 1, 1] = 5\n",
            "Element at index [0, 1, 2] = 6\n",
            "Element at index [0, 2, 0] = 7\n",
            "Element at index [0, 2, 1] = 8\n",
            "Element at index [0, 2, 2] = 9\n"
          ]
        }
      ]
    },
    {
      "cell_type": "markdown",
      "source": [
        "## PyTorch tensors & NumPy\n",
        "\n",
        "NumPy is a popular scientific Python numerical computing library.\n",
        "\n",
        "And because of this, PyTorch has functionality to interact with it.\n",
        "\n",
        "* Data in NumPy, want in PyTorch tensor -> `torch.from_numpy(ndarray)`\n",
        "* PyTorch tensor -> NumPy -> `torch.Tensor.numpy()`"
      ],
      "metadata": {
        "id": "KYwrl9dlV3am"
      }
    },
    {
      "cell_type": "code",
      "source": [
        "# NumPy array to tensor\n",
        "\n",
        "import torch\n",
        "import numpy as np\n",
        "\n",
        "array = np.arange(1.0, 8.0)\n",
        "tensor = torch.from_numpy(array) # Warning: when converting from numpy -> pytorch, pytorch reflects numpy's default datatype of float64 unless spefied otherwise.\n",
        "array, tensor"
      ],
      "metadata": {
        "colab": {
          "base_uri": "https://localhost:8080/"
        },
        "id": "zFB3NvrhV3dY",
        "outputId": "b73ab4cb-2cd4-4de7-f6b0-ce915627afb6"
      },
      "execution_count": null,
      "outputs": [
        {
          "output_type": "execute_result",
          "data": {
            "text/plain": [
              "(array([1., 2., 3., 4., 5., 6., 7.]),\n",
              " tensor([1., 2., 3., 4., 5., 6., 7.], dtype=torch.float64))"
            ]
          },
          "metadata": {},
          "execution_count": 111
        }
      ]
    },
    {
      "cell_type": "markdown",
      "source": [
        "#### As one may notice, the default datatype for NumPy array is `float64`, which is a long datatype for tensor, making it incompatible to the default `float32` tensor datatype"
      ],
      "metadata": {
        "id": "UR7pufPXV3hL"
      }
    },
    {
      "cell_type": "code",
      "source": [
        "array.dtype\n"
      ],
      "metadata": {
        "colab": {
          "base_uri": "https://localhost:8080/"
        },
        "id": "kY2xOSp_V3kT",
        "outputId": "9d9055ec-5f54-4807-a2b9-a66bd12f8774"
      },
      "execution_count": null,
      "outputs": [
        {
          "output_type": "execute_result",
          "data": {
            "text/plain": [
              "dtype('float64')"
            ]
          },
          "metadata": {},
          "execution_count": 112
        }
      ]
    },
    {
      "cell_type": "code",
      "source": [
        "# Compare to a tensor\n",
        "torch.arange(1., 8.).dtype"
      ],
      "metadata": {
        "colab": {
          "base_uri": "https://localhost:8080/"
        },
        "id": "MieWrKSmV3no",
        "outputId": "f1e240ae-1d02-429e-8f22-15cc0d0083a5"
      },
      "execution_count": null,
      "outputs": [
        {
          "output_type": "execute_result",
          "data": {
            "text/plain": [
              "torch.float32"
            ]
          },
          "metadata": {},
          "execution_count": 113
        }
      ]
    },
    {
      "cell_type": "code",
      "source": [
        "# Tensor to NumPy array\n",
        "\n",
        "tensor = torch.ones(7)\n",
        "numpy_tensor = tensor.numpy()\n",
        "tensor, numpy_tensor"
      ],
      "metadata": {
        "colab": {
          "base_uri": "https://localhost:8080/"
        },
        "id": "zHnm65zIV3rF",
        "outputId": "d8ce14e8-78b1-47fd-93d5-20df6256f238"
      },
      "execution_count": null,
      "outputs": [
        {
          "output_type": "execute_result",
          "data": {
            "text/plain": [
              "(tensor([1., 1., 1., 1., 1., 1., 1.]),\n",
              " array([1., 1., 1., 1., 1., 1., 1.], dtype=float32))"
            ]
          },
          "metadata": {},
          "execution_count": 114
        }
      ]
    },
    {
      "cell_type": "code",
      "source": [
        "numpy_tensor.dtype"
      ],
      "metadata": {
        "colab": {
          "base_uri": "https://localhost:8080/"
        },
        "id": "qJvwdrToV3ub",
        "outputId": "fffe8d1f-f54d-4b6c-e31a-9b2eba9a6e0f"
      },
      "execution_count": null,
      "outputs": [
        {
          "output_type": "execute_result",
          "data": {
            "text/plain": [
              "dtype('float32')"
            ]
          },
          "metadata": {},
          "execution_count": 115
        }
      ]
    },
    {
      "cell_type": "code",
      "source": [
        "# Change the tensor, what happens to `numpy_tensor`?\n",
        "\n",
        "tensor = tensor + 1\n",
        "tensor, numpy_tensor"
      ],
      "metadata": {
        "colab": {
          "base_uri": "https://localhost:8080/"
        },
        "id": "C98HILsVV3yp",
        "outputId": "d72be7a9-7f25-4b64-c592-6fd58cc56dc8"
      },
      "execution_count": null,
      "outputs": [
        {
          "output_type": "execute_result",
          "data": {
            "text/plain": [
              "(tensor([2., 2., 2., 2., 2., 2., 2.]),\n",
              " array([1., 1., 1., 1., 1., 1., 1.], dtype=float32))"
            ]
          },
          "metadata": {},
          "execution_count": 116
        }
      ]
    },
    {
      "cell_type": "markdown",
      "source": [
        "## Reproducibility (trying to take the random out of random)\n",
        "\n",
        "As you learn more about neural networks and machine learning, you'll start to discover how much randomness plays a part.\n",
        "\n",
        "Well, pseudorandomness that is. Because after all, as they're designed, a computer is fundamentally deterministic (each step is predictable) so the randomness they create are simulated randomness (though there is debate on this too, but since I'm not a computer scientist, I'll let you find out more yourself).\n",
        "\n",
        "How does this relate to neural networks and deep learning then?\n",
        "\n",
        "Already discussed neural networks start with random numbers to describe patterns in data (these numbers are poor descriptions) and try to improve those random numbers using tensor operations (and a few other things we haven't discussed yet) to better describe patterns in data.\n",
        "\n",
        "In short:\n",
        "\n",
        "`start with random numbers -> tensor operations -> try to make better (again and again and again)`"
      ],
      "metadata": {
        "id": "oUM05hu9V32K"
      }
    },
    {
      "cell_type": "code",
      "source": [
        "import torch\n",
        "\n",
        "# Create two random tensors\n",
        "random_tensor_A = torch.rand(3, 4)\n",
        "random_tensor_B = torch.rand(3, 4)\n",
        "\n",
        "print(f\"Tensor A:\\n{random_tensor_A}\\n\")\n",
        "print(f\"Tensor B:\\n{random_tensor_B}\\n\")\n",
        "print(f\"Does Tensor A equal Tensor B? (anywhere)\")\n",
        "random_tensor_A == random_tensor_B"
      ],
      "metadata": {
        "colab": {
          "base_uri": "https://localhost:8080/"
        },
        "id": "XTF1lhSCV35a",
        "outputId": "229dc578-a52d-41af-d3a1-ce6731737111"
      },
      "execution_count": null,
      "outputs": [
        {
          "output_type": "stream",
          "name": "stdout",
          "text": [
            "Tensor A:\n",
            "tensor([[0.6051, 0.9051, 0.7420, 0.8004],\n",
            "        [0.0850, 0.4911, 0.0383, 0.2841],\n",
            "        [0.1551, 0.2428, 0.3200, 0.8501]])\n",
            "\n",
            "Tensor B:\n",
            "tensor([[0.3406, 0.3775, 0.3798, 0.4443],\n",
            "        [0.7622, 0.5748, 0.0833, 0.8258],\n",
            "        [0.5987, 0.8232, 0.0741, 0.1314]])\n",
            "\n",
            "Does Tensor A equal Tensor B? (anywhere)\n"
          ]
        },
        {
          "output_type": "execute_result",
          "data": {
            "text/plain": [
              "tensor([[False, False, False, False],\n",
              "        [False, False, False, False],\n",
              "        [False, False, False, False]])"
            ]
          },
          "metadata": {},
          "execution_count": 117
        }
      ]
    },
    {
      "cell_type": "markdown",
      "source": [
        "# Is true that the two Tensors A & B change everytime the cell is run.\n",
        "\n",
        "# Although randomness is nice and powerful, sometimes you'd like there to be a little less randomness.\n",
        "\n",
        "Why?\n",
        "\n",
        "# So you can perform repeatable experiments.\n",
        "\n",
        "** For example, you create an algorithm capable of achieving X performance.\n",
        "\n",
        "** And then your friend tries it out to verify you're not crazy.\n",
        "\n",
        "How could they do such a thing?\n",
        "\n",
        "* That's where reproducibility comes in.\n",
        "\n",
        "** In other words, can you get the same (or very similar) results on your computer running the same code as I get on mine?\n",
        "\n",
        "** Let's see a brief example of reproducibility in PyTorch.\n",
        "\n",
        "** Start by creating two random tensors, since they're random, you'd expect them to be different right?"
      ],
      "metadata": {
        "id": "gDTeKiz2V38f"
      }
    },
    {
      "cell_type": "code",
      "source": [
        "# Making some random but reproducible tensors\n",
        "\n",
        "import torch\n",
        "\n",
        "# Set the random seed\n",
        "\n",
        "RANDOM_SEED = 42\n",
        "torch.manual_seed(RANDOM_SEED)\n",
        "\n",
        "random_tensor_C = torch.rand(3, 4)\n",
        "random_tensor_D = torch.rand(3, 4)\n",
        "\n",
        "\n",
        "print(f\"Random Tensor C:\\n {random_tensor_C}\\n\")\n",
        "print(f\"Random Tensor D: \\n {random_tensor_D}\\n\")\n",
        "print(f\"Two Tensors Comparison: \\n {random_tensor_C == random_tensor_D}\")"
      ],
      "metadata": {
        "colab": {
          "base_uri": "https://localhost:8080/"
        },
        "id": "wOl5JK1UV4AC",
        "outputId": "ed1f2c66-716f-4aaa-b519-b87942755a0f"
      },
      "execution_count": null,
      "outputs": [
        {
          "output_type": "stream",
          "name": "stdout",
          "text": [
            "Random Tensor C:\n",
            " tensor([[0.8823, 0.9150, 0.3829, 0.9593],\n",
            "        [0.3904, 0.6009, 0.2566, 0.7936],\n",
            "        [0.9408, 0.1332, 0.9346, 0.5936]])\n",
            "\n",
            "Random Tensor D: \n",
            " tensor([[0.8694, 0.5677, 0.7411, 0.4294],\n",
            "        [0.8854, 0.5739, 0.2666, 0.6274],\n",
            "        [0.2696, 0.4414, 0.2969, 0.8317]])\n",
            "\n",
            "Two Tensors Comparison: \n",
            " tensor([[False, False, False, False],\n",
            "        [False, False, False, False],\n",
            "        [False, False, False, False]])\n"
          ]
        }
      ]
    },
    {
      "cell_type": "markdown",
      "source": [
        "# Solution to the changing `randomness` behaviour above"
      ],
      "metadata": {
        "id": "NJCygwRCV4Ed"
      }
    },
    {
      "cell_type": "code",
      "source": [
        "# Making some random but reproducible tensors\n",
        "\n",
        "import torch\n",
        "\n",
        "# Set the random seed\n",
        "\n",
        "RANDOM_SEED = 42\n",
        "torch.manual_seed(RANDOM_SEED)\n",
        "random_tensor_C = torch.rand(3, 4)\n",
        "\n",
        "torch.manual_seed(RANDOM_SEED)\n",
        "random_tensor_D = torch.rand(3, 4)\n",
        "\n",
        "\n",
        "print(f\"Random Tensor C:\\n {random_tensor_C}\\n\")\n",
        "print(f\"Random Tensor D: \\n {random_tensor_D}\\n\")\n",
        "print(f\"Two Tensors Comparison: \\n {random_tensor_C == random_tensor_D}\")"
      ],
      "metadata": {
        "colab": {
          "base_uri": "https://localhost:8080/"
        },
        "id": "ukdNmPnZV4Hl",
        "outputId": "8641281e-a390-49f9-8e19-685e19bae647"
      },
      "execution_count": null,
      "outputs": [
        {
          "output_type": "stream",
          "name": "stdout",
          "text": [
            "Random Tensor C:\n",
            " tensor([[0.8823, 0.9150, 0.3829, 0.9593],\n",
            "        [0.3904, 0.6009, 0.2566, 0.7936],\n",
            "        [0.9408, 0.1332, 0.9346, 0.5936]])\n",
            "\n",
            "Random Tensor D: \n",
            " tensor([[0.8823, 0.9150, 0.3829, 0.9593],\n",
            "        [0.3904, 0.6009, 0.2566, 0.7936],\n",
            "        [0.9408, 0.1332, 0.9346, 0.5936]])\n",
            "\n",
            "Two Tensors Comparison: \n",
            " tensor([[True, True, True, True],\n",
            "        [True, True, True, True],\n",
            "        [True, True, True, True]])\n"
          ]
        }
      ]
    },
    {
      "cell_type": "markdown",
      "source": [
        "## Extra Resources for reproducibility:\n",
        "\n",
        "* https://pytorch.org/docs/stable/notes/randomness.html\n",
        "* https://en.wikipedia.org/wiki/Random_seed"
      ],
      "metadata": {
        "id": "utYEeRMlV4KY"
      }
    },
    {
      "cell_type": "markdown",
      "source": [
        "# Running tensors on GPUs (and making faster computations)\n",
        "\n",
        "## Deep learning algorithms require a lot of numerical operations.\n",
        "\n",
        "And by default these operations are often done on a CPU (computer processing unit).\n",
        "\n",
        "However, there's another common piece of hardware called a GPU (graphics processing unit), which is often much faster at performing the specific types of operations neural networks need (matrix multiplications) than CPUs.\n",
        "\n",
        "Your computer might have one.\n",
        "\n",
        "If so, you should look to use it whenever you can to train neural networks because chances are it'll speed up the training time dramatically.\n",
        "\n",
        "There are a few ways to first get access to a GPU and secondly get PyTorch to use the GPU.\n",
        "\n",
        "**Note**: When I reference \"GPU\" throughout this course, I'm referencing a Nvidia GPU with CUDA enabled (CUDA is a computing platform and API that helps allow GPUs be used for general purpose computing & not just graphics) unless otherwise specified."
      ],
      "metadata": {
        "id": "GnJTVWO5gdAQ"
      }
    },
    {
      "cell_type": "markdown",
      "source": [
        "## Checking for GPU access with PyTorch"
      ],
      "metadata": {
        "id": "LwJtzVy7gdKQ"
      }
    },
    {
      "cell_type": "code",
      "source": [
        "# Checking or GPU access with PyTorch\n",
        "\n",
        "import torch\n",
        "\n",
        "torch.cuda.is_available()"
      ],
      "metadata": {
        "colab": {
          "base_uri": "https://localhost:8080/"
        },
        "id": "WYwG0KU0gdOJ",
        "outputId": "2f9b6feb-174b-4f0a-bd45-f2f5ae6144ab"
      },
      "execution_count": null,
      "outputs": [
        {
          "output_type": "execute_result",
          "data": {
            "text/plain": [
              "False"
            ]
          },
          "metadata": {},
          "execution_count": 120
        }
      ]
    },
    {
      "cell_type": "code",
      "source": [
        "# Setting up device agnostic code:\n",
        "\n",
        "device = \"cuda\" if torch.cuda.is_available() else \"cpu\"\n",
        "device"
      ],
      "metadata": {
        "colab": {
          "base_uri": "https://localhost:8080/",
          "height": 36
        },
        "id": "61K26w7LgdRH",
        "outputId": "8dab211b-bb14-43a4-fb46-66106ffdb0b6"
      },
      "execution_count": null,
      "outputs": [
        {
          "output_type": "execute_result",
          "data": {
            "text/plain": [
              "'cpu'"
            ],
            "application/vnd.google.colaboratory.intrinsic+json": {
              "type": "string"
            }
          },
          "metadata": {},
          "execution_count": 121
        }
      ]
    },
    {
      "cell_type": "code",
      "source": [
        "# Counting number of devices\n",
        "\n",
        "torch.cuda.device_count()"
      ],
      "metadata": {
        "colab": {
          "base_uri": "https://localhost:8080/"
        },
        "id": "Fix6_wkPgdcd",
        "outputId": "78e6b031-aebf-4bc6-afb5-e0557bb9b44f"
      },
      "execution_count": null,
      "outputs": [
        {
          "output_type": "execute_result",
          "data": {
            "text/plain": [
              "0"
            ]
          },
          "metadata": {},
          "execution_count": 122
        }
      ]
    },
    {
      "cell_type": "markdown",
      "source": [
        "* Due to the structure of PyTorch, there is need to explicitly write decive-agnostic (CPU or GPU) code.\n",
        "\n",
        "* A common pattern is to use Python's argparse module to read in user agruments, and have a flag that can be used to disable CUDA, in combination with `is_available()`.\n",
        "\n",
        "* In the following, `args.device` results in a `torch.device` object that can be used to move tensors to CPU or CUDA."
      ],
      "metadata": {
        "id": "Al3XxyebgdhZ"
      }
    },
    {
      "cell_type": "code",
      "source": [
        "# import argparse\n",
        "# import torch\n",
        "\n",
        "# parser = argparse.ArgumentParser(description='PyTorch Exmaple')\n",
        "# parser.add_argument('--disable-cuda', action='store_true',\n",
        "#                     help='Disable CUDA')\n",
        "# args = parser.parse_args()\n",
        "# args.device = None\n",
        "# if not args.disable_cuda and torch.cuda.is_available():\n",
        "#     args.device = torch.device('cuda')\n",
        "# else:\n",
        "#     args.device = torch.device('cpu')"
      ],
      "metadata": {
        "id": "T7BBNwHnaZXw"
      },
      "execution_count": null,
      "outputs": []
    },
    {
      "cell_type": "code",
      "source": [
        "# import argparse\n",
        "# import torch\n",
        "\n",
        "# # Set up argument parser\n",
        "# parser = argparse.ArgumentParser(description='PyTorch Example')\n",
        "# parser.add_argument('--disable-cuda', action='store_true',\n",
        "#                     help='Disable CUDA to force using CPU even if CUDA is available')\n",
        "\n",
        "# # Parse arguments\n",
        "# args = parser.parse_args()\n",
        "\n",
        "# # Determine the device based on the availability of CUDA and user input\n",
        "# if not args.disable_cuda and torch.cuda.is_available():\n",
        "#     args.device = torch.device('cuda')\n",
        "# else:\n",
        "#     args.device = torch.device('cpu')\n",
        "\n",
        "# # Optionally, print out the device that will be used\n",
        "# print(f\"Using device: {args.device}\")\n"
      ],
      "metadata": {
        "id": "N76ZY-wBaZel"
      },
      "execution_count": null,
      "outputs": []
    }
  ]
}